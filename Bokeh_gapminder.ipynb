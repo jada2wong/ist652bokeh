{
 "cells": [
  {
   "cell_type": "code",
   "execution_count": 4,
   "metadata": {},
   "outputs": [],
   "source": [
    "import pandas as pd"
   ]
  },
  {
   "cell_type": "code",
   "execution_count": 5,
   "metadata": {
    "scrolled": true
   },
   "outputs": [
    {
     "data": {
      "text/html": [
       "<div>\n",
       "<style scoped>\n",
       "    .dataframe tbody tr th:only-of-type {\n",
       "        vertical-align: middle;\n",
       "    }\n",
       "\n",
       "    .dataframe tbody tr th {\n",
       "        vertical-align: top;\n",
       "    }\n",
       "\n",
       "    .dataframe thead th {\n",
       "        text-align: right;\n",
       "    }\n",
       "</style>\n",
       "<table border=\"1\" class=\"dataframe\">\n",
       "  <thead>\n",
       "    <tr style=\"text-align: right;\">\n",
       "      <th></th>\n",
       "      <th>Country</th>\n",
       "      <th>life</th>\n",
       "      <th>population</th>\n",
       "      <th>income</th>\n",
       "      <th>region</th>\n",
       "    </tr>\n",
       "    <tr>\n",
       "      <th>Year</th>\n",
       "      <th></th>\n",
       "      <th></th>\n",
       "      <th></th>\n",
       "      <th></th>\n",
       "      <th></th>\n",
       "    </tr>\n",
       "  </thead>\n",
       "  <tbody>\n",
       "    <tr>\n",
       "      <th>1800</th>\n",
       "      <td>Afghanistan</td>\n",
       "      <td>28.211000</td>\n",
       "      <td>3280000.0</td>\n",
       "      <td>603.0</td>\n",
       "      <td>South Asia</td>\n",
       "    </tr>\n",
       "    <tr>\n",
       "      <th>1801</th>\n",
       "      <td>Afghanistan</td>\n",
       "      <td>28.200753</td>\n",
       "      <td>NaN</td>\n",
       "      <td>603.0</td>\n",
       "      <td>South Asia</td>\n",
       "    </tr>\n",
       "    <tr>\n",
       "      <th>1802</th>\n",
       "      <td>Afghanistan</td>\n",
       "      <td>28.190507</td>\n",
       "      <td>NaN</td>\n",
       "      <td>603.0</td>\n",
       "      <td>South Asia</td>\n",
       "    </tr>\n",
       "    <tr>\n",
       "      <th>1803</th>\n",
       "      <td>Afghanistan</td>\n",
       "      <td>28.180260</td>\n",
       "      <td>NaN</td>\n",
       "      <td>603.0</td>\n",
       "      <td>South Asia</td>\n",
       "    </tr>\n",
       "    <tr>\n",
       "      <th>1804</th>\n",
       "      <td>Afghanistan</td>\n",
       "      <td>28.170013</td>\n",
       "      <td>NaN</td>\n",
       "      <td>603.0</td>\n",
       "      <td>South Asia</td>\n",
       "    </tr>\n",
       "  </tbody>\n",
       "</table>\n",
       "</div>"
      ],
      "text/plain": [
       "          Country       life  population  income      region\n",
       "Year                                                        \n",
       "1800  Afghanistan  28.211000   3280000.0   603.0  South Asia\n",
       "1801  Afghanistan  28.200753         NaN   603.0  South Asia\n",
       "1802  Afghanistan  28.190507         NaN   603.0  South Asia\n",
       "1803  Afghanistan  28.180260         NaN   603.0  South Asia\n",
       "1804  Afghanistan  28.170013         NaN   603.0  South Asia"
      ]
     },
     "execution_count": 5,
     "metadata": {},
     "output_type": "execute_result"
    }
   ],
   "source": [
    "#reading the csv file using pandas read_csv function\n",
    "data = pd.read_csv('gapminder.csv', thousands=',', index_col='Year')\n",
    "#displaying the content of the dataset\n",
    "data.head()"
   ]
  },
  {
   "cell_type": "code",
   "execution_count": 6,
   "metadata": {},
   "outputs": [
    {
     "data": {
      "text/html": [
       "\n",
       "    <div class=\"bk-root\">\n",
       "        <a href=\"https://bokeh.pydata.org\" target=\"_blank\" class=\"bk-logo bk-logo-small bk-logo-notebook\"></a>\n",
       "        <span id=\"1001\">Loading BokehJS ...</span>\n",
       "    </div>"
      ]
     },
     "metadata": {},
     "output_type": "display_data"
    },
    {
     "data": {
      "application/javascript": [
       "\n",
       "(function(root) {\n",
       "  function now() {\n",
       "    return new Date();\n",
       "  }\n",
       "\n",
       "  var force = true;\n",
       "\n",
       "  if (typeof (root._bokeh_onload_callbacks) === \"undefined\" || force === true) {\n",
       "    root._bokeh_onload_callbacks = [];\n",
       "    root._bokeh_is_loading = undefined;\n",
       "  }\n",
       "\n",
       "  var JS_MIME_TYPE = 'application/javascript';\n",
       "  var HTML_MIME_TYPE = 'text/html';\n",
       "  var EXEC_MIME_TYPE = 'application/vnd.bokehjs_exec.v0+json';\n",
       "  var CLASS_NAME = 'output_bokeh rendered_html';\n",
       "\n",
       "  /**\n",
       "   * Render data to the DOM node\n",
       "   */\n",
       "  function render(props, node) {\n",
       "    var script = document.createElement(\"script\");\n",
       "    node.appendChild(script);\n",
       "  }\n",
       "\n",
       "  /**\n",
       "   * Handle when an output is cleared or removed\n",
       "   */\n",
       "  function handleClearOutput(event, handle) {\n",
       "    var cell = handle.cell;\n",
       "\n",
       "    var id = cell.output_area._bokeh_element_id;\n",
       "    var server_id = cell.output_area._bokeh_server_id;\n",
       "    // Clean up Bokeh references\n",
       "    if (id != null && id in Bokeh.index) {\n",
       "      Bokeh.index[id].model.document.clear();\n",
       "      delete Bokeh.index[id];\n",
       "    }\n",
       "\n",
       "    if (server_id !== undefined) {\n",
       "      // Clean up Bokeh references\n",
       "      var cmd = \"from bokeh.io.state import curstate; print(curstate().uuid_to_server['\" + server_id + \"'].get_sessions()[0].document.roots[0]._id)\";\n",
       "      cell.notebook.kernel.execute(cmd, {\n",
       "        iopub: {\n",
       "          output: function(msg) {\n",
       "            var id = msg.content.text.trim();\n",
       "            if (id in Bokeh.index) {\n",
       "              Bokeh.index[id].model.document.clear();\n",
       "              delete Bokeh.index[id];\n",
       "            }\n",
       "          }\n",
       "        }\n",
       "      });\n",
       "      // Destroy server and session\n",
       "      var cmd = \"import bokeh.io.notebook as ion; ion.destroy_server('\" + server_id + \"')\";\n",
       "      cell.notebook.kernel.execute(cmd);\n",
       "    }\n",
       "  }\n",
       "\n",
       "  /**\n",
       "   * Handle when a new output is added\n",
       "   */\n",
       "  function handleAddOutput(event, handle) {\n",
       "    var output_area = handle.output_area;\n",
       "    var output = handle.output;\n",
       "\n",
       "    // limit handleAddOutput to display_data with EXEC_MIME_TYPE content only\n",
       "    if ((output.output_type != \"display_data\") || (!output.data.hasOwnProperty(EXEC_MIME_TYPE))) {\n",
       "      return\n",
       "    }\n",
       "\n",
       "    var toinsert = output_area.element.find(\".\" + CLASS_NAME.split(' ')[0]);\n",
       "\n",
       "    if (output.metadata[EXEC_MIME_TYPE][\"id\"] !== undefined) {\n",
       "      toinsert[toinsert.length - 1].firstChild.textContent = output.data[JS_MIME_TYPE];\n",
       "      // store reference to embed id on output_area\n",
       "      output_area._bokeh_element_id = output.metadata[EXEC_MIME_TYPE][\"id\"];\n",
       "    }\n",
       "    if (output.metadata[EXEC_MIME_TYPE][\"server_id\"] !== undefined) {\n",
       "      var bk_div = document.createElement(\"div\");\n",
       "      bk_div.innerHTML = output.data[HTML_MIME_TYPE];\n",
       "      var script_attrs = bk_div.children[0].attributes;\n",
       "      for (var i = 0; i < script_attrs.length; i++) {\n",
       "        toinsert[toinsert.length - 1].firstChild.setAttribute(script_attrs[i].name, script_attrs[i].value);\n",
       "      }\n",
       "      // store reference to server id on output_area\n",
       "      output_area._bokeh_server_id = output.metadata[EXEC_MIME_TYPE][\"server_id\"];\n",
       "    }\n",
       "  }\n",
       "\n",
       "  function register_renderer(events, OutputArea) {\n",
       "\n",
       "    function append_mime(data, metadata, element) {\n",
       "      // create a DOM node to render to\n",
       "      var toinsert = this.create_output_subarea(\n",
       "        metadata,\n",
       "        CLASS_NAME,\n",
       "        EXEC_MIME_TYPE\n",
       "      );\n",
       "      this.keyboard_manager.register_events(toinsert);\n",
       "      // Render to node\n",
       "      var props = {data: data, metadata: metadata[EXEC_MIME_TYPE]};\n",
       "      render(props, toinsert[toinsert.length - 1]);\n",
       "      element.append(toinsert);\n",
       "      return toinsert\n",
       "    }\n",
       "\n",
       "    /* Handle when an output is cleared or removed */\n",
       "    events.on('clear_output.CodeCell', handleClearOutput);\n",
       "    events.on('delete.Cell', handleClearOutput);\n",
       "\n",
       "    /* Handle when a new output is added */\n",
       "    events.on('output_added.OutputArea', handleAddOutput);\n",
       "\n",
       "    /**\n",
       "     * Register the mime type and append_mime function with output_area\n",
       "     */\n",
       "    OutputArea.prototype.register_mime_type(EXEC_MIME_TYPE, append_mime, {\n",
       "      /* Is output safe? */\n",
       "      safe: true,\n",
       "      /* Index of renderer in `output_area.display_order` */\n",
       "      index: 0\n",
       "    });\n",
       "  }\n",
       "\n",
       "  // register the mime type if in Jupyter Notebook environment and previously unregistered\n",
       "  if (root.Jupyter !== undefined) {\n",
       "    var events = require('base/js/events');\n",
       "    var OutputArea = require('notebook/js/outputarea').OutputArea;\n",
       "\n",
       "    if (OutputArea.prototype.mime_types().indexOf(EXEC_MIME_TYPE) == -1) {\n",
       "      register_renderer(events, OutputArea);\n",
       "    }\n",
       "  }\n",
       "\n",
       "  \n",
       "  if (typeof (root._bokeh_timeout) === \"undefined\" || force === true) {\n",
       "    root._bokeh_timeout = Date.now() + 5000;\n",
       "    root._bokeh_failed_load = false;\n",
       "  }\n",
       "\n",
       "  var NB_LOAD_WARNING = {'data': {'text/html':\n",
       "     \"<div style='background-color: #fdd'>\\n\"+\n",
       "     \"<p>\\n\"+\n",
       "     \"BokehJS does not appear to have successfully loaded. If loading BokehJS from CDN, this \\n\"+\n",
       "     \"may be due to a slow or bad network connection. Possible fixes:\\n\"+\n",
       "     \"</p>\\n\"+\n",
       "     \"<ul>\\n\"+\n",
       "     \"<li>re-rerun `output_notebook()` to attempt to load from CDN again, or</li>\\n\"+\n",
       "     \"<li>use INLINE resources instead, as so:</li>\\n\"+\n",
       "     \"</ul>\\n\"+\n",
       "     \"<code>\\n\"+\n",
       "     \"from bokeh.resources import INLINE\\n\"+\n",
       "     \"output_notebook(resources=INLINE)\\n\"+\n",
       "     \"</code>\\n\"+\n",
       "     \"</div>\"}};\n",
       "\n",
       "  function display_loaded() {\n",
       "    var el = document.getElementById(\"1001\");\n",
       "    if (el != null) {\n",
       "      el.textContent = \"BokehJS is loading...\";\n",
       "    }\n",
       "    if (root.Bokeh !== undefined) {\n",
       "      if (el != null) {\n",
       "        el.textContent = \"BokehJS \" + root.Bokeh.version + \" successfully loaded.\";\n",
       "      }\n",
       "    } else if (Date.now() < root._bokeh_timeout) {\n",
       "      setTimeout(display_loaded, 100)\n",
       "    }\n",
       "  }\n",
       "\n",
       "\n",
       "  function run_callbacks() {\n",
       "    try {\n",
       "      root._bokeh_onload_callbacks.forEach(function(callback) { callback() });\n",
       "    }\n",
       "    finally {\n",
       "      delete root._bokeh_onload_callbacks\n",
       "    }\n",
       "    console.info(\"Bokeh: all callbacks have finished\");\n",
       "  }\n",
       "\n",
       "  function load_libs(js_urls, callback) {\n",
       "    root._bokeh_onload_callbacks.push(callback);\n",
       "    if (root._bokeh_is_loading > 0) {\n",
       "      console.log(\"Bokeh: BokehJS is being loaded, scheduling callback at\", now());\n",
       "      return null;\n",
       "    }\n",
       "    if (js_urls == null || js_urls.length === 0) {\n",
       "      run_callbacks();\n",
       "      return null;\n",
       "    }\n",
       "    console.log(\"Bokeh: BokehJS not loaded, scheduling load and callback at\", now());\n",
       "    root._bokeh_is_loading = js_urls.length;\n",
       "    for (var i = 0; i < js_urls.length; i++) {\n",
       "      var url = js_urls[i];\n",
       "      var s = document.createElement('script');\n",
       "      s.src = url;\n",
       "      s.async = false;\n",
       "      s.onreadystatechange = s.onload = function() {\n",
       "        root._bokeh_is_loading--;\n",
       "        if (root._bokeh_is_loading === 0) {\n",
       "          console.log(\"Bokeh: all BokehJS libraries loaded\");\n",
       "          run_callbacks()\n",
       "        }\n",
       "      };\n",
       "      s.onerror = function() {\n",
       "        console.warn(\"failed to load library \" + url);\n",
       "      };\n",
       "      console.log(\"Bokeh: injecting script tag for BokehJS library: \", url);\n",
       "      document.getElementsByTagName(\"head\")[0].appendChild(s);\n",
       "    }\n",
       "  };var element = document.getElementById(\"1001\");\n",
       "  if (element == null) {\n",
       "    console.log(\"Bokeh: ERROR: autoload.js configured with elementid '1001' but no matching script tag was found. \")\n",
       "    return false;\n",
       "  }\n",
       "\n",
       "  var js_urls = [\"https://cdn.pydata.org/bokeh/release/bokeh-1.0.2.min.js\", \"https://cdn.pydata.org/bokeh/release/bokeh-widgets-1.0.2.min.js\", \"https://cdn.pydata.org/bokeh/release/bokeh-tables-1.0.2.min.js\", \"https://cdn.pydata.org/bokeh/release/bokeh-gl-1.0.2.min.js\"];\n",
       "\n",
       "  var inline_js = [\n",
       "    function(Bokeh) {\n",
       "      Bokeh.set_log_level(\"info\");\n",
       "    },\n",
       "    \n",
       "    function(Bokeh) {\n",
       "      \n",
       "    },\n",
       "    function(Bokeh) {\n",
       "      console.log(\"Bokeh: injecting CSS: https://cdn.pydata.org/bokeh/release/bokeh-1.0.2.min.css\");\n",
       "      Bokeh.embed.inject_css(\"https://cdn.pydata.org/bokeh/release/bokeh-1.0.2.min.css\");\n",
       "      console.log(\"Bokeh: injecting CSS: https://cdn.pydata.org/bokeh/release/bokeh-widgets-1.0.2.min.css\");\n",
       "      Bokeh.embed.inject_css(\"https://cdn.pydata.org/bokeh/release/bokeh-widgets-1.0.2.min.css\");\n",
       "      console.log(\"Bokeh: injecting CSS: https://cdn.pydata.org/bokeh/release/bokeh-tables-1.0.2.min.css\");\n",
       "      Bokeh.embed.inject_css(\"https://cdn.pydata.org/bokeh/release/bokeh-tables-1.0.2.min.css\");\n",
       "    }\n",
       "  ];\n",
       "\n",
       "  function run_inline_js() {\n",
       "    \n",
       "    if ((root.Bokeh !== undefined) || (force === true)) {\n",
       "      for (var i = 0; i < inline_js.length; i++) {\n",
       "        inline_js[i].call(root, root.Bokeh);\n",
       "      }if (force === true) {\n",
       "        display_loaded();\n",
       "      }} else if (Date.now() < root._bokeh_timeout) {\n",
       "      setTimeout(run_inline_js, 100);\n",
       "    } else if (!root._bokeh_failed_load) {\n",
       "      console.log(\"Bokeh: BokehJS failed to load within specified timeout.\");\n",
       "      root._bokeh_failed_load = true;\n",
       "    } else if (force !== true) {\n",
       "      var cell = $(document.getElementById(\"1001\")).parents('.cell').data().cell;\n",
       "      cell.output_area.append_execute_result(NB_LOAD_WARNING)\n",
       "    }\n",
       "\n",
       "  }\n",
       "\n",
       "  if (root._bokeh_is_loading === 0) {\n",
       "    console.log(\"Bokeh: BokehJS loaded, going straight to plotting\");\n",
       "    run_inline_js();\n",
       "  } else {\n",
       "    load_libs(js_urls, function() {\n",
       "      console.log(\"Bokeh: BokehJS plotting callback run at\", now());\n",
       "      run_inline_js();\n",
       "    });\n",
       "  }\n",
       "}(window));"
      ],
      "application/vnd.bokehjs_load.v0+json": "\n(function(root) {\n  function now() {\n    return new Date();\n  }\n\n  var force = true;\n\n  if (typeof (root._bokeh_onload_callbacks) === \"undefined\" || force === true) {\n    root._bokeh_onload_callbacks = [];\n    root._bokeh_is_loading = undefined;\n  }\n\n  \n\n  \n  if (typeof (root._bokeh_timeout) === \"undefined\" || force === true) {\n    root._bokeh_timeout = Date.now() + 5000;\n    root._bokeh_failed_load = false;\n  }\n\n  var NB_LOAD_WARNING = {'data': {'text/html':\n     \"<div style='background-color: #fdd'>\\n\"+\n     \"<p>\\n\"+\n     \"BokehJS does not appear to have successfully loaded. If loading BokehJS from CDN, this \\n\"+\n     \"may be due to a slow or bad network connection. Possible fixes:\\n\"+\n     \"</p>\\n\"+\n     \"<ul>\\n\"+\n     \"<li>re-rerun `output_notebook()` to attempt to load from CDN again, or</li>\\n\"+\n     \"<li>use INLINE resources instead, as so:</li>\\n\"+\n     \"</ul>\\n\"+\n     \"<code>\\n\"+\n     \"from bokeh.resources import INLINE\\n\"+\n     \"output_notebook(resources=INLINE)\\n\"+\n     \"</code>\\n\"+\n     \"</div>\"}};\n\n  function display_loaded() {\n    var el = document.getElementById(\"1001\");\n    if (el != null) {\n      el.textContent = \"BokehJS is loading...\";\n    }\n    if (root.Bokeh !== undefined) {\n      if (el != null) {\n        el.textContent = \"BokehJS \" + root.Bokeh.version + \" successfully loaded.\";\n      }\n    } else if (Date.now() < root._bokeh_timeout) {\n      setTimeout(display_loaded, 100)\n    }\n  }\n\n\n  function run_callbacks() {\n    try {\n      root._bokeh_onload_callbacks.forEach(function(callback) { callback() });\n    }\n    finally {\n      delete root._bokeh_onload_callbacks\n    }\n    console.info(\"Bokeh: all callbacks have finished\");\n  }\n\n  function load_libs(js_urls, callback) {\n    root._bokeh_onload_callbacks.push(callback);\n    if (root._bokeh_is_loading > 0) {\n      console.log(\"Bokeh: BokehJS is being loaded, scheduling callback at\", now());\n      return null;\n    }\n    if (js_urls == null || js_urls.length === 0) {\n      run_callbacks();\n      return null;\n    }\n    console.log(\"Bokeh: BokehJS not loaded, scheduling load and callback at\", now());\n    root._bokeh_is_loading = js_urls.length;\n    for (var i = 0; i < js_urls.length; i++) {\n      var url = js_urls[i];\n      var s = document.createElement('script');\n      s.src = url;\n      s.async = false;\n      s.onreadystatechange = s.onload = function() {\n        root._bokeh_is_loading--;\n        if (root._bokeh_is_loading === 0) {\n          console.log(\"Bokeh: all BokehJS libraries loaded\");\n          run_callbacks()\n        }\n      };\n      s.onerror = function() {\n        console.warn(\"failed to load library \" + url);\n      };\n      console.log(\"Bokeh: injecting script tag for BokehJS library: \", url);\n      document.getElementsByTagName(\"head\")[0].appendChild(s);\n    }\n  };var element = document.getElementById(\"1001\");\n  if (element == null) {\n    console.log(\"Bokeh: ERROR: autoload.js configured with elementid '1001' but no matching script tag was found. \")\n    return false;\n  }\n\n  var js_urls = [\"https://cdn.pydata.org/bokeh/release/bokeh-1.0.2.min.js\", \"https://cdn.pydata.org/bokeh/release/bokeh-widgets-1.0.2.min.js\", \"https://cdn.pydata.org/bokeh/release/bokeh-tables-1.0.2.min.js\", \"https://cdn.pydata.org/bokeh/release/bokeh-gl-1.0.2.min.js\"];\n\n  var inline_js = [\n    function(Bokeh) {\n      Bokeh.set_log_level(\"info\");\n    },\n    \n    function(Bokeh) {\n      \n    },\n    function(Bokeh) {\n      console.log(\"Bokeh: injecting CSS: https://cdn.pydata.org/bokeh/release/bokeh-1.0.2.min.css\");\n      Bokeh.embed.inject_css(\"https://cdn.pydata.org/bokeh/release/bokeh-1.0.2.min.css\");\n      console.log(\"Bokeh: injecting CSS: https://cdn.pydata.org/bokeh/release/bokeh-widgets-1.0.2.min.css\");\n      Bokeh.embed.inject_css(\"https://cdn.pydata.org/bokeh/release/bokeh-widgets-1.0.2.min.css\");\n      console.log(\"Bokeh: injecting CSS: https://cdn.pydata.org/bokeh/release/bokeh-tables-1.0.2.min.css\");\n      Bokeh.embed.inject_css(\"https://cdn.pydata.org/bokeh/release/bokeh-tables-1.0.2.min.css\");\n    }\n  ];\n\n  function run_inline_js() {\n    \n    if ((root.Bokeh !== undefined) || (force === true)) {\n      for (var i = 0; i < inline_js.length; i++) {\n        inline_js[i].call(root, root.Bokeh);\n      }if (force === true) {\n        display_loaded();\n      }} else if (Date.now() < root._bokeh_timeout) {\n      setTimeout(run_inline_js, 100);\n    } else if (!root._bokeh_failed_load) {\n      console.log(\"Bokeh: BokehJS failed to load within specified timeout.\");\n      root._bokeh_failed_load = true;\n    } else if (force !== true) {\n      var cell = $(document.getElementById(\"1001\")).parents('.cell').data().cell;\n      cell.output_area.append_execute_result(NB_LOAD_WARNING)\n    }\n\n  }\n\n  if (root._bokeh_is_loading === 0) {\n    console.log(\"Bokeh: BokehJS loaded, going straight to plotting\");\n    run_inline_js();\n  } else {\n    load_libs(js_urls, function() {\n      console.log(\"Bokeh: BokehJS plotting callback run at\", now());\n      run_inline_js();\n    });\n  }\n}(window));"
     },
     "metadata": {},
     "output_type": "display_data"
    }
   ],
   "source": [
    "from bokeh.io import output_notebook\n",
    "output_notebook()"
   ]
  },
  {
   "cell_type": "code",
   "execution_count": 7,
   "metadata": {
    "scrolled": true
   },
   "outputs": [
    {
     "data": {
      "text/html": [
       "\n",
       "\n",
       "\n",
       "\n",
       "\n",
       "\n",
       "  <div class=\"bk-root\" id=\"553163f2-a81c-4551-a49d-d0ab0f123e5d\"></div>\n"
      ]
     },
     "metadata": {},
     "output_type": "display_data"
    },
    {
     "data": {
      "application/javascript": [
       "(function(root) {\n",
       "  function embed_document(root) {\n",
       "    \n",
       "  var docs_json = {\"5e339162-2be7-46c4-ada8-c1dd61001a74\":{\"roots\":{\"references\":[{\"attributes\":{\"below\":[{\"id\":\"1011\",\"type\":\"LogAxis\"}],\"left\":[{\"id\":\"1016\",\"type\":\"LinearAxis\"}],\"plot_height\":300,\"renderers\":[{\"id\":\"1011\",\"type\":\"LogAxis\"},{\"id\":\"1015\",\"type\":\"Grid\"},{\"id\":\"1016\",\"type\":\"LinearAxis\"},{\"id\":\"1020\",\"type\":\"Grid\"},{\"id\":\"1029\",\"type\":\"BoxAnnotation\"},{\"id\":\"1039\",\"type\":\"GlyphRenderer\"}],\"title\":{\"id\":\"1044\",\"type\":\"Title\"},\"toolbar\":{\"id\":\"1027\",\"type\":\"Toolbar\"},\"x_range\":{\"id\":\"1003\",\"type\":\"Range1d\"},\"x_scale\":{\"id\":\"1007\",\"type\":\"LogScale\"},\"y_range\":{\"id\":\"1005\",\"type\":\"Range1d\"},\"y_scale\":{\"id\":\"1009\",\"type\":\"LinearScale\"}},\"id\":\"1002\",\"subtype\":\"Figure\",\"type\":\"Plot\"},{\"attributes\":{},\"id\":\"1021\",\"type\":\"PanTool\"},{\"attributes\":{},\"id\":\"1022\",\"type\":\"WheelZoomTool\"},{\"attributes\":{\"callback\":null,\"data\":{\"x\":{\"__ndarray__\":\"AAAAAACUmUAAAAAAAE/CQAAAAAAAZ8hAAAAAAMAI40AAAAAAAIe7QAAAAADAFdRAAAAAAIDKzkAAAAAAAGy5QAAAAABALuRAAAAAAKDt5EAAAAAAACfPQAAAAADAYNZAAAAAACDN40AAAAAAADajQAAAAACA4M1AAAAAAICrzkAAAAAAgOfjQAAAAACACMBAAAAAAACUmUAAAAAAAHS5QAAAAAAAn7RAAAAAAIDcwUAAAAAAAKXKQAAAAAAAosxAAAAAAMA+8UAAAAAAABPNQAAAAAAAXJZAAAAAAACohkAAAAAAAKKjQAAAAAAAFqRAAAAAAKDo40AAAAAAAHW3QAAAAAAAhJ5AAAAAAADB0kAAAAAAAGvCQAAAAACADMVAAAAAAABIlkAAAAAAAMCDQAAAAAAAnbVAAAAAAAARyEAAAAAAAJimQAAAAABAhdNAAAAAAEAL0kAAAAAAYHrgQAAAAACg/uRAAAAAAADSpEAAAAAAgEPEQAAAAACAL8JAAAAAAIC7xEAAAAAAAEW8QAAAAADgz+BAAAAAAADskEAAAAAAgDPVQAAAAAAA5JBAAAAAAAC6u0AAAAAAIEDjQAAAAAAg8eFAAAAAAAA3z0AAAAAAAAyaQAAAAAAAMrdAAAAAAADX40AAAAAAACaoQAAAAACAgdxAAAAAAADVxUAAAAAAAMG6QAAAAAAAhJJAAAAAAABglUAAAAAAAKa1QAAAAAAAuJdAAAAAAACusEAAAAAAgIvVQAAAAAAg8+JAAAAAAADDsUAAAAAAAJnAQAAAAAAAldBAAAAAAAAVyEAAAAAAgGrlQAAAAABA0dxAAAAAACB14UAAAAAAAFnAQAAAAACAzOBAAAAAAAD8xUAAAAAAQCTTQAAAAAAAjqNAAAAAAAAEm0AAAAAAUGbyQAAAAAAAudFAAAAAAIDDz0AAAAAAAHahQAAAAAAAiIVAAAAAAECN3UAAAAAAgEXUQAAAAACwQPZAAAAAAIDVxUAAAAAAALiVQAAAAAAACIdAAAAAAIDr00AAAAAAAM3GQAAAAAAAAJpAAAAAAIBA20AAAAAAAHSrQAAAAAAAxqlAAAAAAIB3zkAAAAAAADLOQAAAAAAAEqpAAAAAAACqrkAAAAAAABy+QAAAAAAArMpAAAAAAABCuUAAAAAAABCNQAAAAAAACqhAAAAAAIB4wEAAAAAAADyfQAAAAABgYuZAAAAAAAAU30AAAAAAAPyuQAAAAAAASIpAAAAAAAD6s0AAAAAAQLzuQAAAAACABOhAAAAAAAB8sEAAAAAAgCTNQAAAAAAA5qBAAAAAAABgu0AAAAAAgF3DQAAAAAAA7rVAAAAAAADU1EAAAAAAQMDaQAAAAAAAP/9AAAAAAAB+0EAAAAAAACjVQAAAAAAAuJNAAAAAAAAdtUAAAAAAAG6lQAAAAADAQ+ZAAAAAAAAMoUAAAAAAgAbIQAAAAAAA49NAAAAAAAAMlUAAAAAAgJfxQAAAAACA3ddAAAAAAEC220AAAAAAAOybQAAAAAAAMINAAAAAAICbx0AAAAAAAPytQAAAAABAHOBAAAAAAACUvUAAAAAAAKSpQAAAAACA+stAAAAAAADmtkAAAAAAQPLkQAAAAADgdOpAAAAAAADLuUAAAAAAoBXjQAAAAAAAfKBAAAAAAAC+oEAAAAAAAAvJQAAAAAAAxJtAAAAAAAB4k0AAAAAAAFGzQAAAAABAotxAAAAAAIBVxEAAAAAAgEjQQAAAAAAAmMNAAAAAAACsl0AAAAAAAKS+QAAAAACAqOtAAAAAAACy4UAAAAAAoBvoQAAAAADAsdBAAAAAAABZsEAAAAAAAAinQAAAAAAAJtBAAAAAAACGsUAAAAAAAEOwQAAAAAAA9qpAAAAAAAAwl0A=\",\"dtype\":\"float64\",\"shape\":[178]},\"y\":{\"__ndarray__\":\"ZmZmZmZmS0DNzMzMzMxSQJqZmZmZ+VJAzczMzMzsVEAzMzMzM7NNQM3MzMzMzFJAMzMzMzPzUkCamZmZmTlSQM3MzMzMbFRAAAAAAAAgVECamZmZmdlRQJqZmZmZGVJAzczMzMyMU0BmZmZmZiZRQJqZmZmZ2VJAzczMzMyMUUAzMzMzM/NTQGZmZmZmhlFAAAAAAAAAUEAzMzMzMxNRQDMzMzMz01FAAAAAAAAgU0AAAAAAACBQQM3MzMzMjFJAAAAAAACgU0BmZmZmZmZSQJqZmZmZWU5AmpmZmZlZTUCamZmZmblQQAAAAAAAwExAZmZmZmZGVECamZmZmVlSQJqZmZmZGUxAMzMzMzOzU0CamZmZmflSQDMzMzMz01JAAAAAAACAT0BmZmZmZiZMQGZmZmZmJk5AZmZmZmbmU0CamZmZmZlMQM3MzMzMTFNAAAAAAACAU0BmZmZmZmZUQDMzMzMz01NAZmZmZmbmTkCamZmZmZlSQM3MzMzMjFJAMzMzMzOTUUAzMzMzM3NSQJqZmZmZmUxAAAAAAACATkAzMzMzM/NSQAAAAAAAgE5AmpmZmZl5UEAAAAAAAABUQM3MzMzMTFRAAAAAAADATEAAAAAAAIBPQJqZmZmZGVJAzczMzMwMVEAAAAAAAMBPQGZmZmZm5lNAzczMzMzMUUAzMzMzM7NRQM3MzMzMjE1AAAAAAAAASkBmZmZmZqZPQAAAAAAAgEJAMzMzMzPTUUDNzMzMzKxSQAAAAAAAoFRAZmZmZmZGUEAzMzMzM3NRQJqZmZmZeVNAMzMzMzMTUUCamZmZmflTQAAAAAAAYFRAmpmZmZl5VEAAAAAAAOBSQAAAAAAAwFRAZmZmZmZmU0BmZmZmZsZQQM3MzMzMjE9AAAAAAADATkBmZmZmZsZTQAAAAAAAgFJAAAAAAACAU0AzMzMzM7NHQJqZmZmZ2U5AZmZmZmbmUkCamZmZmXlSQAAAAAAAQFRAMzMzMzPzUkBmZmZmZuZPQGZmZmZm5kpAMzMzMzOTUkCamZmZmblTQAAAAAAAQExAMzMzMzNzVEBmZmZmZgZQQM3MzMzMDFBAmpmZmZkZUkDNzMzMzOxSQJqZmZmZmVBAzczMzMyMUUBmZmZmZuZPQM3MzMzMzFJAzczMzMxsUkCamZmZmdlLQAAAAAAAgFBAAAAAAADATUAAAAAAAGBRQAAAAAAAIFRAAAAAAAAgVEAzMzMzM/NSQJqZmZmZWU5AZmZmZmZmTUCamZmZmTlUQAAAAAAAwFJAzczMzMwsUEDNzMzMzExTQJqZmZmZWU1AmpmZmZlZUkAzMzMzMzNTQM3MzMzMbFFAZmZmZmYGU0AAAAAAAOBTQDMzMzMzU1RAAAAAAACAUkDNzMzMzCxRQJqZmZmZ2U9AZmZmZmbmUUBmZmZmZuZQQM3MzMzMbFNAAAAAAABAUEAAAAAAAEBTQDMzMzMzM1JAAAAAAABATEAAAAAAAGBUQAAAAAAA4FJAAAAAAADgU0AAAAAAAIBPQDMzMzMzc0xAmpmZmZlZTEAAAAAAAEBMQGZmZmZmZlRAzczMzMzsUkAAAAAAAABRQAAAAAAAYFFAZmZmZmbmR0AAAAAAAGBUQDMzMzMzk1RAzczMzMwsU0AzMzMzM7NTQJqZmZmZeVFAMzMzMzNzTkBmZmZmZqZSQDMzMzMzc1FAAAAAAACATkBmZmZmZoZRQGZmZmZmxlFAMzMzMzMzU0DNzMzMzOxSQGZmZmZmplBAMzMzMzMzTUCamZmZmZlRQM3MzMzMDFNAAAAAAAAAVEAAAAAAAKBTQAAAAAAAIFNAZmZmZmZGUUAAAAAAAABQQM3MzMzMrFJAMzMzMzPzUkAAAAAAAIBSQM3MzMzMDEtAMzMzMzMzSUA=\",\"dtype\":\"float64\",\"shape\":[178]}},\"selected\":{\"id\":\"1049\",\"type\":\"Selection\"},\"selection_policy\":{\"id\":\"1050\",\"type\":\"UnionRenderers\"}},\"id\":\"1036\",\"type\":\"ColumnDataSource\"},{\"attributes\":{\"overlay\":{\"id\":\"1029\",\"type\":\"BoxAnnotation\"}},\"id\":\"1023\",\"type\":\"BoxZoomTool\"},{\"attributes\":{},\"id\":\"1024\",\"type\":\"SaveTool\"},{\"attributes\":{},\"id\":\"1007\",\"type\":\"LogScale\"},{\"attributes\":{\"callback\":null,\"end\":100000,\"start\":100},\"id\":\"1003\",\"type\":\"Range1d\"},{\"attributes\":{},\"id\":\"1025\",\"type\":\"ResetTool\"},{\"attributes\":{},\"id\":\"1026\",\"type\":\"HelpTool\"},{\"attributes\":{\"active_drag\":\"auto\",\"active_inspect\":\"auto\",\"active_multi\":null,\"active_scroll\":\"auto\",\"active_tap\":\"auto\",\"tools\":[{\"id\":\"1021\",\"type\":\"PanTool\"},{\"id\":\"1022\",\"type\":\"WheelZoomTool\"},{\"id\":\"1023\",\"type\":\"BoxZoomTool\"},{\"id\":\"1024\",\"type\":\"SaveTool\"},{\"id\":\"1025\",\"type\":\"ResetTool\"},{\"id\":\"1026\",\"type\":\"HelpTool\"}]},\"id\":\"1027\",\"type\":\"Toolbar\"},{\"attributes\":{\"fill_color\":{\"value\":\"#1f77b4\"},\"line_color\":{\"value\":\"#1f77b4\"},\"x\":{\"field\":\"x\"},\"y\":{\"field\":\"y\"}},\"id\":\"1037\",\"type\":\"Circle\"},{\"attributes\":{},\"id\":\"1009\",\"type\":\"LinearScale\"},{\"attributes\":{\"bottom_units\":\"screen\",\"fill_alpha\":{\"value\":0.5},\"fill_color\":{\"value\":\"lightgrey\"},\"left_units\":\"screen\",\"level\":\"overlay\",\"line_alpha\":{\"value\":1.0},\"line_color\":{\"value\":\"black\"},\"line_dash\":[4,4],\"line_width\":{\"value\":2},\"plot\":null,\"render_mode\":\"css\",\"right_units\":\"screen\",\"top_units\":\"screen\"},\"id\":\"1029\",\"type\":\"BoxAnnotation\"},{\"attributes\":{\"fill_alpha\":{\"value\":0.1},\"fill_color\":{\"value\":\"#1f77b4\"},\"line_alpha\":{\"value\":0.1},\"line_color\":{\"value\":\"#1f77b4\"},\"x\":{\"field\":\"x\"},\"y\":{\"field\":\"y\"}},\"id\":\"1038\",\"type\":\"Circle\"},{\"attributes\":{\"axis_label\":\"Income\",\"axis_label_text_color\":{\"value\":\"#00008B\"},\"axis_label_text_font_style\":\"bold\",\"formatter\":{\"id\":\"1041\",\"type\":\"NumeralTickFormatter\"},\"plot\":{\"id\":\"1002\",\"subtype\":\"Figure\",\"type\":\"Plot\"},\"ticker\":{\"id\":\"1012\",\"type\":\"LogTicker\"}},\"id\":\"1011\",\"type\":\"LogAxis\"},{\"attributes\":{\"data_source\":{\"id\":\"1036\",\"type\":\"ColumnDataSource\"},\"glyph\":{\"id\":\"1037\",\"type\":\"Circle\"},\"hover_glyph\":null,\"muted_glyph\":null,\"nonselection_glyph\":{\"id\":\"1038\",\"type\":\"Circle\"},\"selection_glyph\":null,\"view\":{\"id\":\"1040\",\"type\":\"CDSView\"}},\"id\":\"1039\",\"type\":\"GlyphRenderer\"},{\"attributes\":{\"num_minor_ticks\":10},\"id\":\"1012\",\"type\":\"LogTicker\"},{\"attributes\":{\"callback\":null,\"end\":100},\"id\":\"1005\",\"type\":\"Range1d\"},{\"attributes\":{\"plot\":null,\"text\":\"\"},\"id\":\"1044\",\"type\":\"Title\"},{\"attributes\":{\"plot\":{\"id\":\"1002\",\"subtype\":\"Figure\",\"type\":\"Plot\"},\"ticker\":{\"id\":\"1012\",\"type\":\"LogTicker\"}},\"id\":\"1015\",\"type\":\"Grid\"},{\"attributes\":{\"axis_label\":\"Life Expectancy\",\"axis_label_text_color\":{\"value\":\"#00008B\"},\"axis_label_text_font_style\":\"bold\",\"formatter\":{\"id\":\"1047\",\"type\":\"BasicTickFormatter\"},\"plot\":{\"id\":\"1002\",\"subtype\":\"Figure\",\"type\":\"Plot\"},\"ticker\":{\"id\":\"1017\",\"type\":\"BasicTicker\"}},\"id\":\"1016\",\"type\":\"LinearAxis\"},{\"attributes\":{},\"id\":\"1017\",\"type\":\"BasicTicker\"},{\"attributes\":{},\"id\":\"1047\",\"type\":\"BasicTickFormatter\"},{\"attributes\":{\"dimension\":1,\"plot\":{\"id\":\"1002\",\"subtype\":\"Figure\",\"type\":\"Plot\"},\"ticker\":{\"id\":\"1017\",\"type\":\"BasicTicker\"}},\"id\":\"1020\",\"type\":\"Grid\"},{\"attributes\":{},\"id\":\"1049\",\"type\":\"Selection\"},{\"attributes\":{\"format\":\"$0,\"},\"id\":\"1041\",\"type\":\"NumeralTickFormatter\"},{\"attributes\":{},\"id\":\"1050\",\"type\":\"UnionRenderers\"},{\"attributes\":{\"source\":{\"id\":\"1036\",\"type\":\"ColumnDataSource\"}},\"id\":\"1040\",\"type\":\"CDSView\"}],\"root_ids\":[\"1002\"]},\"title\":\"Bokeh Application\",\"version\":\"1.0.2\"}};\n",
       "  var render_items = [{\"docid\":\"5e339162-2be7-46c4-ada8-c1dd61001a74\",\"roots\":{\"1002\":\"553163f2-a81c-4551-a49d-d0ab0f123e5d\"}}];\n",
       "  root.Bokeh.embed.embed_items_notebook(docs_json, render_items);\n",
       "\n",
       "  }\n",
       "  if (root.Bokeh !== undefined) {\n",
       "    embed_document(root);\n",
       "  } else {\n",
       "    var attempts = 0;\n",
       "    var timer = setInterval(function(root) {\n",
       "      if (root.Bokeh !== undefined) {\n",
       "        embed_document(root);\n",
       "        clearInterval(timer);\n",
       "      }\n",
       "      attempts++;\n",
       "      if (attempts > 100) {\n",
       "        console.log(\"Bokeh: ERROR: Unable to run BokehJS code because BokehJS library is missing\");\n",
       "        clearInterval(timer);\n",
       "      }\n",
       "    }, 10, root)\n",
       "  }\n",
       "})(window);"
      ],
      "application/vnd.bokehjs_exec.v0+json": ""
     },
     "metadata": {
      "application/vnd.bokehjs_exec.v0+json": {
       "id": "1002"
      }
     },
     "output_type": "display_data"
    }
   ],
   "source": [
    "from bokeh.io import show\n",
    "from bokeh.plotting import figure\n",
    "from bokeh.models import NumeralTickFormatter\n",
    "p = figure(\n",
    "    height=300,x_axis_type='log',                       #using 'log' to make the graph make more sense\n",
    "    x_range=(100,100000), y_range=(0,100)\n",
    ")\n",
    "p.circle(x=data.loc[2010].income, y=data.loc[2010].life)\n",
    "p.xaxis[0].formatter=NumeralTickFormatter(format='$0,')  #using NumeralTickFormatter to change the format\n",
    "p.xaxis.axis_label = \"Income\"\n",
    "p.xaxis.axis_label_text_color = \"#00008B\"\n",
    "p.xaxis.axis_label_text_font_style = \"bold\"\n",
    "p.yaxis.axis_label = \"Life Expectancy\"\n",
    "p.yaxis.axis_label_text_color = \"#00008B\"\n",
    "p.yaxis.axis_label_text_font_style = \"bold\"\n",
    "show(p)"
   ]
  },
  {
   "cell_type": "code",
   "execution_count": 8,
   "metadata": {},
   "outputs": [],
   "source": [
    "from bokeh.models import ColumnDataSource #allows to pass df or dictionary"
   ]
  },
  {
   "cell_type": "code",
   "execution_count": 9,
   "metadata": {},
   "outputs": [
    {
     "data": {
      "text/plain": [
       "['x', 'y', 'country']"
      ]
     },
     "execution_count": 9,
     "metadata": {},
     "output_type": "execute_result"
    }
   ],
   "source": [
    "source = ColumnDataSource(dict(\n",
    "        x=data.loc[2010].income, \n",
    "        y=data.loc[2010].life,\n",
    "    country=data.loc[2010].Country \n",
    ")) #including country in the dictionary for further analysis\n",
    "source.column_names#checking the names of the columns in the source"
   ]
  },
  {
   "cell_type": "code",
   "execution_count": 10,
   "metadata": {},
   "outputs": [],
   "source": [
    "#creating the PLOT_OPS that could be reused later\n",
    "PLOT_OPS = dict(\n",
    "    height=400, x_axis_type='log',\n",
    "    x_range=(100,100000), y_range=(0,100),\n",
    ")"
   ]
  },
  {
   "cell_type": "code",
   "execution_count": 11,
   "metadata": {},
   "outputs": [
    {
     "data": {
      "text/html": [
       "\n",
       "\n",
       "\n",
       "\n",
       "\n",
       "\n",
       "  <div class=\"bk-root\" id=\"db850a86-ff1e-4a1c-ba91-296ec56a5ae6\"></div>\n"
      ]
     },
     "metadata": {},
     "output_type": "display_data"
    },
    {
     "data": {
      "application/javascript": [
       "(function(root) {\n",
       "  function embed_document(root) {\n",
       "    \n",
       "  var docs_json = {\"8937ece1-3d03-49c7-ac1d-17df3afc783a\":{\"roots\":{\"references\":[{\"attributes\":{\"below\":[{\"id\":\"1110\",\"type\":\"LogAxis\"}],\"left\":[{\"id\":\"1115\",\"type\":\"LinearAxis\"}],\"plot_height\":400,\"renderers\":[{\"id\":\"1110\",\"type\":\"LogAxis\"},{\"id\":\"1114\",\"type\":\"Grid\"},{\"id\":\"1115\",\"type\":\"LinearAxis\"},{\"id\":\"1119\",\"type\":\"Grid\"},{\"id\":\"1125\",\"type\":\"GlyphRenderer\"}],\"title\":{\"id\":\"1138\",\"type\":\"Title\"},\"toolbar\":{\"id\":\"1120\",\"type\":\"Toolbar\"},\"x_range\":{\"id\":\"1102\",\"type\":\"Range1d\"},\"x_scale\":{\"id\":\"1106\",\"type\":\"LogScale\"},\"y_range\":{\"id\":\"1104\",\"type\":\"Range1d\"},\"y_scale\":{\"id\":\"1108\",\"type\":\"LinearScale\"}},\"id\":\"1101\",\"subtype\":\"Figure\",\"type\":\"Plot\"},{\"attributes\":{},\"id\":\"1116\",\"type\":\"BasicTicker\"},{\"attributes\":{\"num_minor_ticks\":10},\"id\":\"1111\",\"type\":\"LogTicker\"},{\"attributes\":{\"fill_alpha\":{\"value\":0.1},\"fill_color\":{\"value\":\"#1f77b4\"},\"line_alpha\":{\"value\":0.1},\"line_color\":{\"value\":\"#1f77b4\"},\"size\":{\"units\":\"screen\",\"value\":10},\"x\":{\"field\":\"x\"},\"y\":{\"field\":\"y\"}},\"id\":\"1124\",\"type\":\"Circle\"},{\"attributes\":{\"fill_alpha\":{\"value\":0.6},\"fill_color\":{\"value\":\"#1f77b4\"},\"line_alpha\":{\"value\":0.6},\"line_color\":{\"value\":\"#1f77b4\"},\"size\":{\"units\":\"screen\",\"value\":10},\"x\":{\"field\":\"x\"},\"y\":{\"field\":\"y\"}},\"id\":\"1123\",\"type\":\"Circle\"},{\"attributes\":{\"axis_label\":\"Income\",\"axis_label_text_color\":{\"value\":\"#00008B\"},\"axis_label_text_font_style\":\"bold\",\"formatter\":{\"id\":\"1127\",\"type\":\"NumeralTickFormatter\"},\"plot\":{\"id\":\"1101\",\"subtype\":\"Figure\",\"type\":\"Plot\"},\"ticker\":{\"id\":\"1111\",\"type\":\"LogTicker\"}},\"id\":\"1110\",\"type\":\"LogAxis\"},{\"attributes\":{\"active_drag\":\"auto\",\"active_inspect\":\"auto\",\"active_multi\":null,\"active_scroll\":\"auto\",\"active_tap\":\"auto\",\"tools\":[{\"id\":\"1100\",\"type\":\"HoverTool\"}]},\"id\":\"1120\",\"type\":\"Toolbar\"},{\"attributes\":{\"axis_label\":\"Life Expectancy\",\"axis_label_text_color\":{\"value\":\"#00008B\"},\"axis_label_text_font_style\":\"bold\",\"formatter\":{\"id\":\"1141\",\"type\":\"BasicTickFormatter\"},\"plot\":{\"id\":\"1101\",\"subtype\":\"Figure\",\"type\":\"Plot\"},\"ticker\":{\"id\":\"1116\",\"type\":\"BasicTicker\"}},\"id\":\"1115\",\"type\":\"LinearAxis\"},{\"attributes\":{\"dimension\":1,\"plot\":{\"id\":\"1101\",\"subtype\":\"Figure\",\"type\":\"Plot\"},\"ticker\":{\"id\":\"1116\",\"type\":\"BasicTicker\"}},\"id\":\"1119\",\"type\":\"Grid\"},{\"attributes\":{\"callback\":null,\"show_arrow\":false,\"tooltips\":\"@country\"},\"id\":\"1100\",\"type\":\"HoverTool\"},{\"attributes\":{\"data_source\":{\"id\":\"1099\",\"type\":\"ColumnDataSource\"},\"glyph\":{\"id\":\"1123\",\"type\":\"Circle\"},\"hover_glyph\":null,\"muted_glyph\":null,\"nonselection_glyph\":{\"id\":\"1124\",\"type\":\"Circle\"},\"selection_glyph\":null,\"view\":{\"id\":\"1126\",\"type\":\"CDSView\"}},\"id\":\"1125\",\"type\":\"GlyphRenderer\"},{\"attributes\":{},\"id\":\"1108\",\"type\":\"LinearScale\"},{\"attributes\":{\"plot\":{\"id\":\"1101\",\"subtype\":\"Figure\",\"type\":\"Plot\"},\"ticker\":{\"id\":\"1111\",\"type\":\"LogTicker\"}},\"id\":\"1114\",\"type\":\"Grid\"},{\"attributes\":{\"source\":{\"id\":\"1099\",\"type\":\"ColumnDataSource\"}},\"id\":\"1126\",\"type\":\"CDSView\"},{\"attributes\":{\"callback\":null,\"end\":100000,\"start\":100},\"id\":\"1102\",\"type\":\"Range1d\"},{\"attributes\":{\"format\":\"$0,\"},\"id\":\"1127\",\"type\":\"NumeralTickFormatter\"},{\"attributes\":{\"plot\":null,\"text\":\"\"},\"id\":\"1138\",\"type\":\"Title\"},{\"attributes\":{\"callback\":null,\"data\":{\"country\":[\"Afghanistan\",\"Albania\",\"Algeria\",\"Andorra\",\"Angola\",\"Antigua and Barbuda\",\"Argentina\",\"Armenia\",\"Australia\",\"Austria\",\"Azerbaijan\",\"Bahamas\",\"Bahrain\",\"Bangladesh\",\"Barbados\",\"Belarus\",\"Belgium\",\"Belize\",\"Benin\",\"Bhutan\",\"Bolivia\",\"Bosnia and Herzegovina\",\"Botswana\",\"Brazil\",\"Brunei\",\"Bulgaria\",\"Burkina Faso\",\"Burundi\",\"Cambodia\",\"Cameroon\",\"Canada\",\"Cape Verde\",\"Chad\",\"Chile\",\"China\",\"Colombia\",\"Comoros\",\"Congo, Dem. Rep.\",\"Congo, Rep.\",\"Costa Rica\",\"Cote d'Ivoire\",\"Croatia\",\"Cuba\",\"Cyprus\",\"Denmark\",\"Djibouti\",\"Dominica\",\"Ecuador\",\"Egypt\",\"El Salvador\",\"Equatorial Guinea\",\"Eritrea\",\"Estonia\",\"Ethiopia\",\"Fiji\",\"Finland\",\"France\",\"Gabon\",\"Gambia\",\"Georgia\",\"Germany\",\"Ghana\",\"Greece\",\"Grenada\",\"Guatemala\",\"Guinea\",\"Guinea-Bissau\",\"Guyana\",\"Haiti\",\"Honduras\",\"Hungary\",\"Iceland\",\"India\",\"Indonesia\",\"Iran\",\"Iraq\",\"Ireland\",\"Israel\",\"Italy\",\"Jamaica\",\"Japan\",\"Jordan\",\"Kazakhstan\",\"Kenya\",\"Kiribati\",\"Kuwait\",\"Latvia\",\"Lebanon\",\"Lesotho\",\"Liberia\",\"Libya\",\"Lithuania\",\"Luxembourg\",\"Macedonia, FYR\",\"Madagascar\",\"Malawi\",\"Malaysia\",\"Maldives\",\"Mali\",\"Malta\",\"Marshall Islands\",\"Mauritania\",\"Mauritius\",\"Mexico\",\"Micronesia, Fed. Sts.\",\"Moldova\",\"Mongolia\",\"Montenegro\",\"Morocco\",\"Mozambique\",\"Myanmar\",\"Namibia\",\"Nepal\",\"Netherlands\",\"New Zealand\",\"Nicaragua\",\"Niger\",\"Nigeria\",\"Norway\",\"Oman\",\"Pakistan\",\"Panama\",\"Papua New Guinea\",\"Paraguay\",\"Peru\",\"Philippines\",\"Poland\",\"Portugal\",\"Qatar\",\"Romania\",\"Russia\",\"Rwanda\",\"Samoa\",\"Sao Tome and Principe\",\"Saudi Arabia\",\"Senegal\",\"Serbia\",\"Seychelles\",\"Sierra Leone\",\"Singapore\",\"Slovak Republic\",\"Slovenia\",\"Solomon Islands\",\"Somalia\",\"South Africa\",\"South Sudan\",\"Spain\",\"Sri Lanka\",\"Sudan\",\"Suriname\",\"Swaziland\",\"Sweden\",\"Switzerland\",\"Syria\",\"Taiwan\",\"Tajikistan\",\"Tanzania\",\"Thailand\",\"Timor-Leste\",\"Togo\",\"Tonga\",\"Trinidad and Tobago\",\"Tunisia\",\"Turkey\",\"Turkmenistan\",\"Uganda\",\"Ukraine\",\"United Arab Emirates\",\"United Kingdom\",\"United States\",\"Uruguay\",\"Uzbekistan\",\"Vanuatu\",\"Venezuela\",\"Vietnam\",\"West Bank and Gaza\",\"Zambia\",\"Zimbabwe\"],\"x\":{\"__ndarray__\":\"AAAAAACUmUAAAAAAAE/CQAAAAAAAZ8hAAAAAAMAI40AAAAAAAIe7QAAAAADAFdRAAAAAAIDKzkAAAAAAAGy5QAAAAABALuRAAAAAAKDt5EAAAAAAACfPQAAAAADAYNZAAAAAACDN40AAAAAAADajQAAAAACA4M1AAAAAAICrzkAAAAAAgOfjQAAAAACACMBAAAAAAACUmUAAAAAAAHS5QAAAAAAAn7RAAAAAAIDcwUAAAAAAAKXKQAAAAAAAosxAAAAAAMA+8UAAAAAAABPNQAAAAAAAXJZAAAAAAACohkAAAAAAAKKjQAAAAAAAFqRAAAAAAKDo40AAAAAAAHW3QAAAAAAAhJ5AAAAAAADB0kAAAAAAAGvCQAAAAACADMVAAAAAAABIlkAAAAAAAMCDQAAAAAAAnbVAAAAAAAARyEAAAAAAAJimQAAAAABAhdNAAAAAAEAL0kAAAAAAYHrgQAAAAACg/uRAAAAAAADSpEAAAAAAgEPEQAAAAACAL8JAAAAAAIC7xEAAAAAAAEW8QAAAAADgz+BAAAAAAADskEAAAAAAgDPVQAAAAAAA5JBAAAAAAAC6u0AAAAAAIEDjQAAAAAAg8eFAAAAAAAA3z0AAAAAAAAyaQAAAAAAAMrdAAAAAAADX40AAAAAAACaoQAAAAACAgdxAAAAAAADVxUAAAAAAAMG6QAAAAAAAhJJAAAAAAABglUAAAAAAAKa1QAAAAAAAuJdAAAAAAACusEAAAAAAgIvVQAAAAAAg8+JAAAAAAADDsUAAAAAAAJnAQAAAAAAAldBAAAAAAAAVyEAAAAAAgGrlQAAAAABA0dxAAAAAACB14UAAAAAAAFnAQAAAAACAzOBAAAAAAAD8xUAAAAAAQCTTQAAAAAAAjqNAAAAAAAAEm0AAAAAAUGbyQAAAAAAAudFAAAAAAIDDz0AAAAAAAHahQAAAAAAAiIVAAAAAAECN3UAAAAAAgEXUQAAAAACwQPZAAAAAAIDVxUAAAAAAALiVQAAAAAAACIdAAAAAAIDr00AAAAAAAM3GQAAAAAAAAJpAAAAAAIBA20AAAAAAAHSrQAAAAAAAxqlAAAAAAIB3zkAAAAAAADLOQAAAAAAAEqpAAAAAAACqrkAAAAAAABy+QAAAAAAArMpAAAAAAABCuUAAAAAAABCNQAAAAAAACqhAAAAAAIB4wEAAAAAAADyfQAAAAABgYuZAAAAAAAAU30AAAAAAAPyuQAAAAAAASIpAAAAAAAD6s0AAAAAAQLzuQAAAAACABOhAAAAAAAB8sEAAAAAAgCTNQAAAAAAA5qBAAAAAAABgu0AAAAAAgF3DQAAAAAAA7rVAAAAAAADU1EAAAAAAQMDaQAAAAAAAP/9AAAAAAAB+0EAAAAAAACjVQAAAAAAAuJNAAAAAAAAdtUAAAAAAAG6lQAAAAADAQ+ZAAAAAAAAMoUAAAAAAgAbIQAAAAAAA49NAAAAAAAAMlUAAAAAAgJfxQAAAAACA3ddAAAAAAEC220AAAAAAAOybQAAAAAAAMINAAAAAAICbx0AAAAAAAPytQAAAAABAHOBAAAAAAACUvUAAAAAAAKSpQAAAAACA+stAAAAAAADmtkAAAAAAQPLkQAAAAADgdOpAAAAAAADLuUAAAAAAoBXjQAAAAAAAfKBAAAAAAAC+oEAAAAAAAAvJQAAAAAAAxJtAAAAAAAB4k0AAAAAAAFGzQAAAAABAotxAAAAAAIBVxEAAAAAAgEjQQAAAAAAAmMNAAAAAAACsl0AAAAAAAKS+QAAAAACAqOtAAAAAAACy4UAAAAAAoBvoQAAAAADAsdBAAAAAAABZsEAAAAAAAAinQAAAAAAAJtBAAAAAAACGsUAAAAAAAEOwQAAAAAAA9qpAAAAAAAAwl0A=\",\"dtype\":\"float64\",\"shape\":[178]},\"y\":{\"__ndarray__\":\"ZmZmZmZmS0DNzMzMzMxSQJqZmZmZ+VJAzczMzMzsVEAzMzMzM7NNQM3MzMzMzFJAMzMzMzPzUkCamZmZmTlSQM3MzMzMbFRAAAAAAAAgVECamZmZmdlRQJqZmZmZGVJAzczMzMyMU0BmZmZmZiZRQJqZmZmZ2VJAzczMzMyMUUAzMzMzM/NTQGZmZmZmhlFAAAAAAAAAUEAzMzMzMxNRQDMzMzMz01FAAAAAAAAgU0AAAAAAACBQQM3MzMzMjFJAAAAAAACgU0BmZmZmZmZSQJqZmZmZWU5AmpmZmZlZTUCamZmZmblQQAAAAAAAwExAZmZmZmZGVECamZmZmVlSQJqZmZmZGUxAMzMzMzOzU0CamZmZmflSQDMzMzMz01JAAAAAAACAT0BmZmZmZiZMQGZmZmZmJk5AZmZmZmbmU0CamZmZmZlMQM3MzMzMTFNAAAAAAACAU0BmZmZmZmZUQDMzMzMz01NAZmZmZmbmTkCamZmZmZlSQM3MzMzMjFJAMzMzMzOTUUAzMzMzM3NSQJqZmZmZmUxAAAAAAACATkAzMzMzM/NSQAAAAAAAgE5AmpmZmZl5UEAAAAAAAABUQM3MzMzMTFRAAAAAAADATEAAAAAAAIBPQJqZmZmZGVJAzczMzMwMVEAAAAAAAMBPQGZmZmZm5lNAzczMzMzMUUAzMzMzM7NRQM3MzMzMjE1AAAAAAAAASkBmZmZmZqZPQAAAAAAAgEJAMzMzMzPTUUDNzMzMzKxSQAAAAAAAoFRAZmZmZmZGUEAzMzMzM3NRQJqZmZmZeVNAMzMzMzMTUUCamZmZmflTQAAAAAAAYFRAmpmZmZl5VEAAAAAAAOBSQAAAAAAAwFRAZmZmZmZmU0BmZmZmZsZQQM3MzMzMjE9AAAAAAADATkBmZmZmZsZTQAAAAAAAgFJAAAAAAACAU0AzMzMzM7NHQJqZmZmZ2U5AZmZmZmbmUkCamZmZmXlSQAAAAAAAQFRAMzMzMzPzUkBmZmZmZuZPQGZmZmZm5kpAMzMzMzOTUkCamZmZmblTQAAAAAAAQExAMzMzMzNzVEBmZmZmZgZQQM3MzMzMDFBAmpmZmZkZUkDNzMzMzOxSQJqZmZmZmVBAzczMzMyMUUBmZmZmZuZPQM3MzMzMzFJAzczMzMxsUkCamZmZmdlLQAAAAAAAgFBAAAAAAADATUAAAAAAAGBRQAAAAAAAIFRAAAAAAAAgVEAzMzMzM/NSQJqZmZmZWU5AZmZmZmZmTUCamZmZmTlUQAAAAAAAwFJAzczMzMwsUEDNzMzMzExTQJqZmZmZWU1AmpmZmZlZUkAzMzMzMzNTQM3MzMzMbFFAZmZmZmYGU0AAAAAAAOBTQDMzMzMzU1RAAAAAAACAUkDNzMzMzCxRQJqZmZmZ2U9AZmZmZmbmUUBmZmZmZuZQQM3MzMzMbFNAAAAAAABAUEAAAAAAAEBTQDMzMzMzM1JAAAAAAABATEAAAAAAAGBUQAAAAAAA4FJAAAAAAADgU0AAAAAAAIBPQDMzMzMzc0xAmpmZmZlZTEAAAAAAAEBMQGZmZmZmZlRAzczMzMzsUkAAAAAAAABRQAAAAAAAYFFAZmZmZmbmR0AAAAAAAGBUQDMzMzMzk1RAzczMzMwsU0AzMzMzM7NTQJqZmZmZeVFAMzMzMzNzTkBmZmZmZqZSQDMzMzMzc1FAAAAAAACATkBmZmZmZoZRQGZmZmZmxlFAMzMzMzMzU0DNzMzMzOxSQGZmZmZmplBAMzMzMzMzTUCamZmZmZlRQM3MzMzMDFNAAAAAAAAAVEAAAAAAAKBTQAAAAAAAIFNAZmZmZmZGUUAAAAAAAABQQM3MzMzMrFJAMzMzMzPzUkAAAAAAAIBSQM3MzMzMDEtAMzMzMzMzSUA=\",\"dtype\":\"float64\",\"shape\":[178]}},\"selected\":{\"id\":\"1142\",\"type\":\"Selection\"},\"selection_policy\":{\"id\":\"1143\",\"type\":\"UnionRenderers\"}},\"id\":\"1099\",\"type\":\"ColumnDataSource\"},{\"attributes\":{},\"id\":\"1141\",\"type\":\"BasicTickFormatter\"},{\"attributes\":{\"callback\":null,\"end\":100},\"id\":\"1104\",\"type\":\"Range1d\"},{\"attributes\":{},\"id\":\"1142\",\"type\":\"Selection\"},{\"attributes\":{},\"id\":\"1106\",\"type\":\"LogScale\"},{\"attributes\":{},\"id\":\"1143\",\"type\":\"UnionRenderers\"}],\"root_ids\":[\"1101\"]},\"title\":\"Bokeh Application\",\"version\":\"1.0.2\"}};\n",
       "  var render_items = [{\"docid\":\"8937ece1-3d03-49c7-ac1d-17df3afc783a\",\"roots\":{\"1101\":\"db850a86-ff1e-4a1c-ba91-296ec56a5ae6\"}}];\n",
       "  root.Bokeh.embed.embed_items_notebook(docs_json, render_items);\n",
       "\n",
       "  }\n",
       "  if (root.Bokeh !== undefined) {\n",
       "    embed_document(root);\n",
       "  } else {\n",
       "    var attempts = 0;\n",
       "    var timer = setInterval(function(root) {\n",
       "      if (root.Bokeh !== undefined) {\n",
       "        embed_document(root);\n",
       "        clearInterval(timer);\n",
       "      }\n",
       "      attempts++;\n",
       "      if (attempts > 100) {\n",
       "        console.log(\"Bokeh: ERROR: Unable to run BokehJS code because BokehJS library is missing\");\n",
       "        clearInterval(timer);\n",
       "      }\n",
       "    }, 10, root)\n",
       "  }\n",
       "})(window);"
      ],
      "application/vnd.bokehjs_exec.v0+json": ""
     },
     "metadata": {
      "application/vnd.bokehjs_exec.v0+json": {
       "id": "1101"
      }
     },
     "output_type": "display_data"
    }
   ],
   "source": [
    "from bokeh.models import HoverTool\n",
    "from bokeh.models import NumeralTickFormatter\n",
    "hover = HoverTool(tooltips='@country',show_arrow=False)\n",
    "p = figure(tools=[hover], **PLOT_OPS)\n",
    "p.circle(x='x',y='y', size=10, alpha=0.6, source=source) #transform is used to use the function to update the fields\n",
    "p.xaxis[0].formatter=NumeralTickFormatter(format='$0,')\n",
    "p.xaxis.axis_label = \"Income\"\n",
    "p.xaxis.axis_label_text_color = \"#00008B\"\n",
    "p.xaxis.axis_label_text_font_style = \"bold\"\n",
    "p.yaxis.axis_label = \"Life Expectancy\"\n",
    "p.yaxis.axis_label_text_color = \"#00008B\"\n",
    "p.yaxis.axis_label_text_font_style = \"bold\"\n",
    "show(p)"
   ]
  },
  {
   "cell_type": "code",
   "execution_count": 12,
   "metadata": {},
   "outputs": [
    {
     "data": {
      "text/plain": [
       "['x', 'y', 'country', 'population', 'region']"
      ]
     },
     "execution_count": 12,
     "metadata": {},
     "output_type": "execute_result"
    }
   ],
   "source": [
    "source = ColumnDataSource(dict(\n",
    "        x=data.loc[2010].income, \n",
    "        y=data.loc[2010].life,\n",
    "        country=data.loc[2010].Country,\n",
    "        population=data.loc[2010].population,\n",
    "        region=data.loc[2010].region\n",
    "))   #including region in the dictionary for further analysis\n",
    "source.column_names #checking the names of the columns in the source"
   ]
  },
  {
   "cell_type": "code",
   "execution_count": 13,
   "metadata": {},
   "outputs": [
    {
     "data": {
      "text/html": [
       "\n",
       "\n",
       "\n",
       "\n",
       "\n",
       "\n",
       "  <div class=\"bk-root\" id=\"e5e4ce78-0b06-4591-b9ad-361927fd36a2\"></div>\n"
      ]
     },
     "metadata": {},
     "output_type": "display_data"
    },
    {
     "data": {
      "application/javascript": [
       "(function(root) {\n",
       "  function embed_document(root) {\n",
       "    \n",
       "  var docs_json = {\"26a2f783-9ab5-47a1-a290-9160e49d1e82\":{\"roots\":{\"references\":[{\"attributes\":{\"below\":[{\"id\":\"1200\",\"type\":\"LogAxis\"}],\"left\":[{\"id\":\"1205\",\"type\":\"LinearAxis\"}],\"plot_height\":400,\"renderers\":[{\"id\":\"1200\",\"type\":\"LogAxis\"},{\"id\":\"1204\",\"type\":\"Grid\"},{\"id\":\"1205\",\"type\":\"LinearAxis\"},{\"id\":\"1209\",\"type\":\"Grid\"},{\"id\":\"1218\",\"type\":\"BoxAnnotation\"},{\"id\":\"1236\",\"type\":\"Legend\"},{\"id\":\"1228\",\"type\":\"GlyphRenderer\"}],\"right\":[{\"id\":\"1236\",\"type\":\"Legend\"}],\"title\":{\"id\":\"1189\",\"type\":\"Title\"},\"toolbar\":{\"id\":\"1216\",\"type\":\"Toolbar\"},\"toolbar_location\":\"above\",\"x_range\":{\"id\":\"1192\",\"type\":\"Range1d\"},\"x_scale\":{\"id\":\"1196\",\"type\":\"LogScale\"},\"y_range\":{\"id\":\"1194\",\"type\":\"Range1d\"},\"y_scale\":{\"id\":\"1198\",\"type\":\"LinearScale\"}},\"id\":\"1190\",\"subtype\":\"Figure\",\"type\":\"Plot\"},{\"attributes\":{\"data\":null,\"x\":[1548.0,1376048943.0],\"y\":[5,50]},\"id\":\"1187\",\"type\":\"LinearInterpolator\"},{\"attributes\":{},\"id\":\"1211\",\"type\":\"WheelZoomTool\"},{\"attributes\":{\"overlay\":{\"id\":\"1218\",\"type\":\"BoxAnnotation\"}},\"id\":\"1212\",\"type\":\"BoxZoomTool\"},{\"attributes\":{},\"id\":\"1213\",\"type\":\"SaveTool\"},{\"attributes\":{\"plot\":null,\"text\":\"2010\"},\"id\":\"1189\",\"type\":\"Title\"},{\"attributes\":{},\"id\":\"1214\",\"type\":\"ResetTool\"},{\"attributes\":{\"source\":{\"id\":\"1186\",\"type\":\"ColumnDataSource\"}},\"id\":\"1229\",\"type\":\"CDSView\"},{\"attributes\":{},\"id\":\"1215\",\"type\":\"HelpTool\"},{\"attributes\":{\"callback\":null,\"end\":100000,\"start\":100},\"id\":\"1192\",\"type\":\"Range1d\"},{\"attributes\":{\"active_drag\":\"auto\",\"active_inspect\":\"auto\",\"active_multi\":null,\"active_scroll\":\"auto\",\"active_tap\":\"auto\",\"tools\":[{\"id\":\"1210\",\"type\":\"PanTool\"},{\"id\":\"1211\",\"type\":\"WheelZoomTool\"},{\"id\":\"1212\",\"type\":\"BoxZoomTool\"},{\"id\":\"1213\",\"type\":\"SaveTool\"},{\"id\":\"1214\",\"type\":\"ResetTool\"},{\"id\":\"1215\",\"type\":\"HelpTool\"}]},\"id\":\"1216\",\"type\":\"Toolbar\"},{\"attributes\":{\"callback\":null,\"end\":100},\"id\":\"1194\",\"type\":\"Range1d\"},{\"attributes\":{},\"id\":\"1196\",\"type\":\"LogScale\"},{\"attributes\":{\"bottom_units\":\"screen\",\"fill_alpha\":{\"value\":0.5},\"fill_color\":{\"value\":\"lightgrey\"},\"left_units\":\"screen\",\"level\":\"overlay\",\"line_alpha\":{\"value\":1.0},\"line_color\":{\"value\":\"black\"},\"line_dash\":[4,4],\"line_width\":{\"value\":2},\"plot\":null,\"render_mode\":\"css\",\"right_units\":\"screen\",\"top_units\":\"screen\"},\"id\":\"1218\",\"type\":\"BoxAnnotation\"},{\"attributes\":{},\"id\":\"1198\",\"type\":\"LinearScale\"},{\"attributes\":{\"data_source\":{\"id\":\"1186\",\"type\":\"ColumnDataSource\"},\"glyph\":{\"id\":\"1226\",\"type\":\"Circle\"},\"hover_glyph\":null,\"muted_glyph\":null,\"nonselection_glyph\":{\"id\":\"1227\",\"type\":\"Circle\"},\"selection_glyph\":null,\"view\":{\"id\":\"1229\",\"type\":\"CDSView\"}},\"id\":\"1228\",\"type\":\"GlyphRenderer\"},{\"attributes\":{\"axis_label\":\"Income\",\"axis_label_text_color\":{\"value\":\"#00008B\"},\"axis_label_text_font_style\":\"bold\",\"formatter\":{\"id\":\"1238\",\"type\":\"NumeralTickFormatter\"},\"plot\":{\"id\":\"1190\",\"subtype\":\"Figure\",\"type\":\"Plot\"},\"ticker\":{\"id\":\"1201\",\"type\":\"LogTicker\"}},\"id\":\"1200\",\"type\":\"LogAxis\"},{\"attributes\":{\"num_minor_ticks\":10},\"id\":\"1201\",\"type\":\"LogTicker\"},{\"attributes\":{},\"id\":\"1234\",\"type\":\"BasicTickFormatter\"},{\"attributes\":{\"plot\":{\"id\":\"1190\",\"subtype\":\"Figure\",\"type\":\"Plot\"},\"ticker\":{\"id\":\"1201\",\"type\":\"LogTicker\"}},\"id\":\"1204\",\"type\":\"Grid\"},{\"attributes\":{\"border_line_color\":{\"value\":null},\"items\":[{\"id\":\"1237\",\"type\":\"LegendItem\"}],\"plot\":{\"id\":\"1190\",\"subtype\":\"Figure\",\"type\":\"Plot\"}},\"id\":\"1236\",\"type\":\"Legend\"},{\"attributes\":{\"axis_label\":\"Life Expectancy\",\"axis_label_text_color\":{\"value\":\"#00008B\"},\"axis_label_text_font_style\":\"bold\",\"formatter\":{\"id\":\"1234\",\"type\":\"BasicTickFormatter\"},\"plot\":{\"id\":\"1190\",\"subtype\":\"Figure\",\"type\":\"Plot\"},\"ticker\":{\"id\":\"1206\",\"type\":\"BasicTicker\"}},\"id\":\"1205\",\"type\":\"LinearAxis\"},{\"attributes\":{\"callback\":null,\"data\":{\"country\":[\"Afghanistan\",\"Albania\",\"Algeria\",\"Andorra\",\"Angola\",\"Antigua and Barbuda\",\"Argentina\",\"Armenia\",\"Australia\",\"Austria\",\"Azerbaijan\",\"Bahamas\",\"Bahrain\",\"Bangladesh\",\"Barbados\",\"Belarus\",\"Belgium\",\"Belize\",\"Benin\",\"Bhutan\",\"Bolivia\",\"Bosnia and Herzegovina\",\"Botswana\",\"Brazil\",\"Brunei\",\"Bulgaria\",\"Burkina Faso\",\"Burundi\",\"Cambodia\",\"Cameroon\",\"Canada\",\"Cape Verde\",\"Chad\",\"Chile\",\"China\",\"Colombia\",\"Comoros\",\"Congo, Dem. Rep.\",\"Congo, Rep.\",\"Costa Rica\",\"Cote d'Ivoire\",\"Croatia\",\"Cuba\",\"Cyprus\",\"Denmark\",\"Djibouti\",\"Dominica\",\"Ecuador\",\"Egypt\",\"El Salvador\",\"Equatorial Guinea\",\"Eritrea\",\"Estonia\",\"Ethiopia\",\"Fiji\",\"Finland\",\"France\",\"Gabon\",\"Gambia\",\"Georgia\",\"Germany\",\"Ghana\",\"Greece\",\"Grenada\",\"Guatemala\",\"Guinea\",\"Guinea-Bissau\",\"Guyana\",\"Haiti\",\"Honduras\",\"Hungary\",\"Iceland\",\"India\",\"Indonesia\",\"Iran\",\"Iraq\",\"Ireland\",\"Israel\",\"Italy\",\"Jamaica\",\"Japan\",\"Jordan\",\"Kazakhstan\",\"Kenya\",\"Kiribati\",\"Kuwait\",\"Latvia\",\"Lebanon\",\"Lesotho\",\"Liberia\",\"Libya\",\"Lithuania\",\"Luxembourg\",\"Macedonia, FYR\",\"Madagascar\",\"Malawi\",\"Malaysia\",\"Maldives\",\"Mali\",\"Malta\",\"Marshall Islands\",\"Mauritania\",\"Mauritius\",\"Mexico\",\"Micronesia, Fed. Sts.\",\"Moldova\",\"Mongolia\",\"Montenegro\",\"Morocco\",\"Mozambique\",\"Myanmar\",\"Namibia\",\"Nepal\",\"Netherlands\",\"New Zealand\",\"Nicaragua\",\"Niger\",\"Nigeria\",\"Norway\",\"Oman\",\"Pakistan\",\"Panama\",\"Papua New Guinea\",\"Paraguay\",\"Peru\",\"Philippines\",\"Poland\",\"Portugal\",\"Qatar\",\"Romania\",\"Russia\",\"Rwanda\",\"Samoa\",\"Sao Tome and Principe\",\"Saudi Arabia\",\"Senegal\",\"Serbia\",\"Seychelles\",\"Sierra Leone\",\"Singapore\",\"Slovak Republic\",\"Slovenia\",\"Solomon Islands\",\"Somalia\",\"South Africa\",\"South Sudan\",\"Spain\",\"Sri Lanka\",\"Sudan\",\"Suriname\",\"Swaziland\",\"Sweden\",\"Switzerland\",\"Syria\",\"Taiwan\",\"Tajikistan\",\"Tanzania\",\"Thailand\",\"Timor-Leste\",\"Togo\",\"Tonga\",\"Trinidad and Tobago\",\"Tunisia\",\"Turkey\",\"Turkmenistan\",\"Uganda\",\"Ukraine\",\"United Arab Emirates\",\"United Kingdom\",\"United States\",\"Uruguay\",\"Uzbekistan\",\"Vanuatu\",\"Venezuela\",\"Vietnam\",\"West Bank and Gaza\",\"Zambia\",\"Zimbabwe\"],\"population\":{\"__ndarray__\":\"AAAA8LWqekEAAACAvSNGQQAAAPjxLoFBAAAAADCc9EAAAAAgpzx0QQAAAAAQTPVAAAAA2Baog0EAAAAAFJxGQQAAAPDaInVBAAAAQKYBYEEAAACgTlthQQAAAAD4BRZBAAAAAAc/M0EAAAAS+hKiQQAAAAA4EBFBAAAAQNMaYkEAAABA59hkQQAAAAAkoRNBAAAAwHQjYkEAAAAA7PolQQAAAKDk6mJBAAAAAL1CTUEAAAAAVz8/QQAAAIA5radBAAAAAFgBGEEAAABAsEFcQQAAAEDY0G1BAAAAoK8LYkEAAABAeGVrQQAAAKAEo3NBAAAA6MpFgEEAAAAALO4dQQAAAIDHsGZBAAAAgBA6cEEAAEDIY/vTQQAAAKg85YVBAAAAAI5SJUEAAADAKHGPQQAAAACPBU9BAAAAQL5WUUEAAACw9zJzQQAAAEBCd1BBAAAAoIyRZUEAAAAARdcwQQAAAMDbLFVBAAAAAKRaKUEAAAAA8F/xQAAAAIBUfGxBAAAAiGKPk0EAAACAyAhXQQAAAAAMPSZBAAAAAMDjUUEAAAAAeVM0QQAAAFhZ4JRBAAAAAGA+KkEAAABA43lUQQAAAICvBY5BAAAAADCHN0EAAAAAStU5QQAAAACFNlBBAAAArGEtk0EAAABg8jB3QQAAAKDEUWVBAAAAAFCO+UAAAACgfBlsQQAAAMAmAWVBAAAAAJTvOEEAAAAApP0mQQAAACCgEmNBAAAAwACgXEEAAAAg9RljQQAAAABoaRNBAAAATtVX0kEAAACMcs2sQQAAAPQQtJFBAAAAwCtwfUEAAACAHZ1RQQAAAAB0TlxBAAAAOO1pjEEAAACAAupEQQAAAOj7Wp5BAAAAACbdWEEAAAAALBxvQQAAAMjjOoNBAAAAAIAP+UAAAACAiFdHQQAAAAAX5j9BAAAAAIGLUEEAAAAA2q0+QQAAAABzMk5BAAAAQNjmV0EAAACASdNHQQAAAADE/x5BAAAAAGt4P0EAAADAXhp0QQAAAADUK2xBAAAAwBzRekEAAAAAfEwUQQAAAMDm7WxBAAAAAIAmGUEAAAAAgJnpQAAAAAB0ZktBAAAAAM8KM0EAAAAY10ecQQAAAAAwTPlAAAAAgIEpT0EAAACAKLJEQQAAAAAA+yJBAAAAsM2efkEAAAAQ2zF3QQAAAKgQq4hBAAAAgHW8QEEAAABggKF5QQAAAGDiuG9BAAAAwKCqUEEAAACAPuNVQQAAAMASE29BAAAAzEEBo0EAAADAnKhSQQAAAICBdUZBAAAAHFRFpEEAAAAATZ9LQQAAAEAHH1pBAAAAQFWwV0EAAADATAN8QQAAANikLpZBAAAA0NJkgkEAAACgYDBkQQAAAACJ8DpBAAAAYMVbc0EAAACm1hChQQAAAKA0omNBAAAAAGi1BkEAAAAAANwEQQAAAHARynpBAAAA4I62aEEAAADAXEdhQQAAAACQufZAAAAAgIcIVkEAAABA7F9TQQAAAAAsoFRBAAAAAIBRP0EAAAAAwg4gQQAAAECSRmJBAAAA0HadiEEAAABgYy5jQQAAAKCoOIZBAAAAAPZDc0EAAAAojjiBQQAAAAD0nx9BAAAAALw0MkEAAAAgM+VhQQAAAIAB311BAAAAoL3Cc0EAAACAVvV1QQAAAAAA7FxBAAAAaFTEhUEAAADAHc2PQQAAAABiITBBAAAAwBBhWEEAAAAAsGD5QAAAAADfQzRBAAAAQOtKZEEAAABAej2RQQAAAMDSO1NBAAAAkB6df0EAAABINMSFQQAAAEA7xl9BAAAAYNjnjUEAAADKVXiyQQAAAACnvklBAAAAQGd0ekEAAAAAWNgMQQAAABAKp3tBAAAAPO4QlUEAAAAA1gpPQQAAAOCfi2pBAAAAIDGnakE=\",\"dtype\":\"float64\",\"shape\":[178]},\"region\":[\"South Asia\",\"Europe & Central Asia\",\"Middle East & North Africa\",\"Europe & Central Asia\",\"Sub-Saharan Africa\",\"America\",\"America\",\"Europe & Central Asia\",\"East Asia & Pacific\",\"Europe & Central Asia\",\"Europe & Central Asia\",\"America\",\"Middle East & North Africa\",\"South Asia\",\"America\",\"Europe & Central Asia\",\"Europe & Central Asia\",\"America\",\"Sub-Saharan Africa\",\"South Asia\",\"America\",\"Europe & Central Asia\",\"Sub-Saharan Africa\",\"America\",\"East Asia & Pacific\",\"Europe & Central Asia\",\"Sub-Saharan Africa\",\"Sub-Saharan Africa\",\"East Asia & Pacific\",\"Sub-Saharan Africa\",\"America\",\"Sub-Saharan Africa\",\"Sub-Saharan Africa\",\"America\",\"East Asia & Pacific\",\"America\",\"Sub-Saharan Africa\",\"Sub-Saharan Africa\",\"Sub-Saharan Africa\",\"America\",\"Sub-Saharan Africa\",\"Europe & Central Asia\",\"America\",\"Europe & Central Asia\",\"Europe & Central Asia\",\"Middle East & North Africa\",\"America\",\"America\",\"Middle East & North Africa\",\"America\",\"Sub-Saharan Africa\",\"Sub-Saharan Africa\",\"Europe & Central Asia\",\"Sub-Saharan Africa\",\"East Asia & Pacific\",\"Europe & Central Asia\",\"Europe & Central Asia\",\"Sub-Saharan Africa\",\"Sub-Saharan Africa\",\"Europe & Central Asia\",\"Europe & Central Asia\",\"Sub-Saharan Africa\",\"Europe & Central Asia\",\"America\",\"America\",\"Sub-Saharan Africa\",\"Sub-Saharan Africa\",\"America\",\"America\",\"America\",\"Europe & Central Asia\",\"Europe & Central Asia\",\"South Asia\",\"East Asia & Pacific\",\"Middle East & North Africa\",\"Middle East & North Africa\",\"Europe & Central Asia\",\"Middle East & North Africa\",\"Europe & Central Asia\",\"America\",\"East Asia & Pacific\",\"Middle East & North Africa\",\"Europe & Central Asia\",\"Sub-Saharan Africa\",\"East Asia & Pacific\",\"Middle East & North Africa\",\"Europe & Central Asia\",\"Middle East & North Africa\",\"Sub-Saharan Africa\",\"Sub-Saharan Africa\",\"Middle East & North Africa\",\"Europe & Central Asia\",\"Europe & Central Asia\",\"Europe & Central Asia\",\"Sub-Saharan Africa\",\"Sub-Saharan Africa\",\"East Asia & Pacific\",\"South Asia\",\"Sub-Saharan Africa\",\"Europe & Central Asia\",\"East Asia & Pacific\",\"Sub-Saharan Africa\",\"Sub-Saharan Africa\",\"America\",\"East Asia & Pacific\",\"Europe & Central Asia\",\"East Asia & Pacific\",\"Europe & Central Asia\",\"Middle East & North Africa\",\"Sub-Saharan Africa\",\"East Asia & Pacific\",\"Sub-Saharan Africa\",\"South Asia\",\"Europe & Central Asia\",\"East Asia & Pacific\",\"America\",\"Sub-Saharan Africa\",\"Sub-Saharan Africa\",\"Europe & Central Asia\",\"Middle East & North Africa\",\"South Asia\",\"America\",\"East Asia & Pacific\",\"America\",\"America\",\"East Asia & Pacific\",\"Europe & Central Asia\",\"Europe & Central Asia\",\"Middle East & North Africa\",\"Europe & Central Asia\",\"Europe & Central Asia\",\"Sub-Saharan Africa\",\"East Asia & Pacific\",\"Sub-Saharan Africa\",\"Middle East & North Africa\",\"Sub-Saharan Africa\",\"Europe & Central Asia\",\"Sub-Saharan Africa\",\"Sub-Saharan Africa\",\"East Asia & Pacific\",\"Europe & Central Asia\",\"Europe & Central Asia\",\"East Asia & Pacific\",\"Sub-Saharan Africa\",\"Sub-Saharan Africa\",\"Sub-Saharan Africa\",\"Europe & Central Asia\",\"South Asia\",\"Sub-Saharan Africa\",\"America\",\"Sub-Saharan Africa\",\"Europe & Central Asia\",\"Europe & Central Asia\",\"Middle East & North Africa\",\"East Asia & Pacific\",\"Europe & Central Asia\",\"Sub-Saharan Africa\",\"East Asia & Pacific\",\"East Asia & Pacific\",\"Sub-Saharan Africa\",\"East Asia & Pacific\",\"America\",\"Middle East & North Africa\",\"Europe & Central Asia\",\"Europe & Central Asia\",\"Sub-Saharan Africa\",\"Europe & Central Asia\",\"Middle East & North Africa\",\"Europe & Central Asia\",\"America\",\"America\",\"Europe & Central Asia\",\"East Asia & Pacific\",\"America\",\"East Asia & Pacific\",\"Middle East & North Africa\",\"Sub-Saharan Africa\",\"Sub-Saharan Africa\"],\"x\":{\"__ndarray__\":\"AAAAAACUmUAAAAAAAE/CQAAAAAAAZ8hAAAAAAMAI40AAAAAAAIe7QAAAAADAFdRAAAAAAIDKzkAAAAAAAGy5QAAAAABALuRAAAAAAKDt5EAAAAAAACfPQAAAAADAYNZAAAAAACDN40AAAAAAADajQAAAAACA4M1AAAAAAICrzkAAAAAAgOfjQAAAAACACMBAAAAAAACUmUAAAAAAAHS5QAAAAAAAn7RAAAAAAIDcwUAAAAAAAKXKQAAAAAAAosxAAAAAAMA+8UAAAAAAABPNQAAAAAAAXJZAAAAAAACohkAAAAAAAKKjQAAAAAAAFqRAAAAAAKDo40AAAAAAAHW3QAAAAAAAhJ5AAAAAAADB0kAAAAAAAGvCQAAAAACADMVAAAAAAABIlkAAAAAAAMCDQAAAAAAAnbVAAAAAAAARyEAAAAAAAJimQAAAAABAhdNAAAAAAEAL0kAAAAAAYHrgQAAAAACg/uRAAAAAAADSpEAAAAAAgEPEQAAAAACAL8JAAAAAAIC7xEAAAAAAAEW8QAAAAADgz+BAAAAAAADskEAAAAAAgDPVQAAAAAAA5JBAAAAAAAC6u0AAAAAAIEDjQAAAAAAg8eFAAAAAAAA3z0AAAAAAAAyaQAAAAAAAMrdAAAAAAADX40AAAAAAACaoQAAAAACAgdxAAAAAAADVxUAAAAAAAMG6QAAAAAAAhJJAAAAAAABglUAAAAAAAKa1QAAAAAAAuJdAAAAAAACusEAAAAAAgIvVQAAAAAAg8+JAAAAAAADDsUAAAAAAAJnAQAAAAAAAldBAAAAAAAAVyEAAAAAAgGrlQAAAAABA0dxAAAAAACB14UAAAAAAAFnAQAAAAACAzOBAAAAAAAD8xUAAAAAAQCTTQAAAAAAAjqNAAAAAAAAEm0AAAAAAUGbyQAAAAAAAudFAAAAAAIDDz0AAAAAAAHahQAAAAAAAiIVAAAAAAECN3UAAAAAAgEXUQAAAAACwQPZAAAAAAIDVxUAAAAAAALiVQAAAAAAACIdAAAAAAIDr00AAAAAAAM3GQAAAAAAAAJpAAAAAAIBA20AAAAAAAHSrQAAAAAAAxqlAAAAAAIB3zkAAAAAAADLOQAAAAAAAEqpAAAAAAACqrkAAAAAAABy+QAAAAAAArMpAAAAAAABCuUAAAAAAABCNQAAAAAAACqhAAAAAAIB4wEAAAAAAADyfQAAAAABgYuZAAAAAAAAU30AAAAAAAPyuQAAAAAAASIpAAAAAAAD6s0AAAAAAQLzuQAAAAACABOhAAAAAAAB8sEAAAAAAgCTNQAAAAAAA5qBAAAAAAABgu0AAAAAAgF3DQAAAAAAA7rVAAAAAAADU1EAAAAAAQMDaQAAAAAAAP/9AAAAAAAB+0EAAAAAAACjVQAAAAAAAuJNAAAAAAAAdtUAAAAAAAG6lQAAAAADAQ+ZAAAAAAAAMoUAAAAAAgAbIQAAAAAAA49NAAAAAAAAMlUAAAAAAgJfxQAAAAACA3ddAAAAAAEC220AAAAAAAOybQAAAAAAAMINAAAAAAICbx0AAAAAAAPytQAAAAABAHOBAAAAAAACUvUAAAAAAAKSpQAAAAACA+stAAAAAAADmtkAAAAAAQPLkQAAAAADgdOpAAAAAAADLuUAAAAAAoBXjQAAAAAAAfKBAAAAAAAC+oEAAAAAAAAvJQAAAAAAAxJtAAAAAAAB4k0AAAAAAAFGzQAAAAABAotxAAAAAAIBVxEAAAAAAgEjQQAAAAAAAmMNAAAAAAACsl0AAAAAAAKS+QAAAAACAqOtAAAAAAACy4UAAAAAAoBvoQAAAAADAsdBAAAAAAABZsEAAAAAAAAinQAAAAAAAJtBAAAAAAACGsUAAAAAAAEOwQAAAAAAA9qpAAAAAAAAwl0A=\",\"dtype\":\"float64\",\"shape\":[178]},\"y\":{\"__ndarray__\":\"ZmZmZmZmS0DNzMzMzMxSQJqZmZmZ+VJAzczMzMzsVEAzMzMzM7NNQM3MzMzMzFJAMzMzMzPzUkCamZmZmTlSQM3MzMzMbFRAAAAAAAAgVECamZmZmdlRQJqZmZmZGVJAzczMzMyMU0BmZmZmZiZRQJqZmZmZ2VJAzczMzMyMUUAzMzMzM/NTQGZmZmZmhlFAAAAAAAAAUEAzMzMzMxNRQDMzMzMz01FAAAAAAAAgU0AAAAAAACBQQM3MzMzMjFJAAAAAAACgU0BmZmZmZmZSQJqZmZmZWU5AmpmZmZlZTUCamZmZmblQQAAAAAAAwExAZmZmZmZGVECamZmZmVlSQJqZmZmZGUxAMzMzMzOzU0CamZmZmflSQDMzMzMz01JAAAAAAACAT0BmZmZmZiZMQGZmZmZmJk5AZmZmZmbmU0CamZmZmZlMQM3MzMzMTFNAAAAAAACAU0BmZmZmZmZUQDMzMzMz01NAZmZmZmbmTkCamZmZmZlSQM3MzMzMjFJAMzMzMzOTUUAzMzMzM3NSQJqZmZmZmUxAAAAAAACATkAzMzMzM/NSQAAAAAAAgE5AmpmZmZl5UEAAAAAAAABUQM3MzMzMTFRAAAAAAADATEAAAAAAAIBPQJqZmZmZGVJAzczMzMwMVEAAAAAAAMBPQGZmZmZm5lNAzczMzMzMUUAzMzMzM7NRQM3MzMzMjE1AAAAAAAAASkBmZmZmZqZPQAAAAAAAgEJAMzMzMzPTUUDNzMzMzKxSQAAAAAAAoFRAZmZmZmZGUEAzMzMzM3NRQJqZmZmZeVNAMzMzMzMTUUCamZmZmflTQAAAAAAAYFRAmpmZmZl5VEAAAAAAAOBSQAAAAAAAwFRAZmZmZmZmU0BmZmZmZsZQQM3MzMzMjE9AAAAAAADATkBmZmZmZsZTQAAAAAAAgFJAAAAAAACAU0AzMzMzM7NHQJqZmZmZ2U5AZmZmZmbmUkCamZmZmXlSQAAAAAAAQFRAMzMzMzPzUkBmZmZmZuZPQGZmZmZm5kpAMzMzMzOTUkCamZmZmblTQAAAAAAAQExAMzMzMzNzVEBmZmZmZgZQQM3MzMzMDFBAmpmZmZkZUkDNzMzMzOxSQJqZmZmZmVBAzczMzMyMUUBmZmZmZuZPQM3MzMzMzFJAzczMzMxsUkCamZmZmdlLQAAAAAAAgFBAAAAAAADATUAAAAAAAGBRQAAAAAAAIFRAAAAAAAAgVEAzMzMzM/NSQJqZmZmZWU5AZmZmZmZmTUCamZmZmTlUQAAAAAAAwFJAzczMzMwsUEDNzMzMzExTQJqZmZmZWU1AmpmZmZlZUkAzMzMzMzNTQM3MzMzMbFFAZmZmZmYGU0AAAAAAAOBTQDMzMzMzU1RAAAAAAACAUkDNzMzMzCxRQJqZmZmZ2U9AZmZmZmbmUUBmZmZmZuZQQM3MzMzMbFNAAAAAAABAUEAAAAAAAEBTQDMzMzMzM1JAAAAAAABATEAAAAAAAGBUQAAAAAAA4FJAAAAAAADgU0AAAAAAAIBPQDMzMzMzc0xAmpmZmZlZTEAAAAAAAEBMQGZmZmZmZlRAzczMzMzsUkAAAAAAAABRQAAAAAAAYFFAZmZmZmbmR0AAAAAAAGBUQDMzMzMzk1RAzczMzMwsU0AzMzMzM7NTQJqZmZmZeVFAMzMzMzNzTkBmZmZmZqZSQDMzMzMzc1FAAAAAAACATkBmZmZmZoZRQGZmZmZmxlFAMzMzMzMzU0DNzMzMzOxSQGZmZmZmplBAMzMzMzMzTUCamZmZmZlRQM3MzMzMDFNAAAAAAAAAVEAAAAAAAKBTQAAAAAAAIFNAZmZmZmZGUUAAAAAAAABQQM3MzMzMrFJAMzMzMzPzUkAAAAAAAIBSQM3MzMzMDEtAMzMzMzMzSUA=\",\"dtype\":\"float64\",\"shape\":[178]}},\"selected\":{\"id\":\"1260\",\"type\":\"Selection\"},\"selection_policy\":{\"id\":\"1261\",\"type\":\"UnionRenderers\"}},\"id\":\"1186\",\"type\":\"ColumnDataSource\"},{\"attributes\":{},\"id\":\"1206\",\"type\":\"BasicTicker\"},{\"attributes\":{},\"id\":\"1260\",\"type\":\"Selection\"},{\"attributes\":{\"dimension\":1,\"plot\":{\"id\":\"1190\",\"subtype\":\"Figure\",\"type\":\"Plot\"},\"ticker\":{\"id\":\"1206\",\"type\":\"BasicTicker\"}},\"id\":\"1209\",\"type\":\"Grid\"},{\"attributes\":{\"factors\":[\"South Asia\",\"Europe & Central Asia\",\"Middle East & North Africa\",\"Sub-Saharan Africa\",\"America\",\"East Asia & Pacific\"],\"palette\":[\"#3288bd\",\"#99d594\",\"#e6f598\",\"#fee08b\",\"#fc8d59\",\"#d53e4f\"]},\"id\":\"1188\",\"type\":\"CategoricalColorMapper\"},{\"attributes\":{\"fill_alpha\":{\"value\":0.6},\"fill_color\":{\"field\":\"region\",\"transform\":{\"id\":\"1188\",\"type\":\"CategoricalColorMapper\"}},\"line_alpha\":{\"value\":0.6},\"line_color\":{\"field\":\"region\",\"transform\":{\"id\":\"1188\",\"type\":\"CategoricalColorMapper\"}},\"size\":{\"field\":\"population\",\"transform\":{\"id\":\"1187\",\"type\":\"LinearInterpolator\"},\"units\":\"screen\"},\"x\":{\"field\":\"x\"},\"y\":{\"field\":\"y\"}},\"id\":\"1226\",\"type\":\"Circle\"},{\"attributes\":{},\"id\":\"1261\",\"type\":\"UnionRenderers\"},{\"attributes\":{\"label\":{\"field\":\"region\"},\"renderers\":[{\"id\":\"1228\",\"type\":\"GlyphRenderer\"}]},\"id\":\"1237\",\"type\":\"LegendItem\"},{\"attributes\":{\"fill_alpha\":{\"value\":0.1},\"fill_color\":{\"value\":\"#1f77b4\"},\"line_alpha\":{\"value\":0.1},\"line_color\":{\"value\":\"#1f77b4\"},\"size\":{\"field\":\"population\",\"transform\":{\"id\":\"1187\",\"type\":\"LinearInterpolator\"},\"units\":\"screen\"},\"x\":{\"field\":\"x\"},\"y\":{\"field\":\"y\"}},\"id\":\"1227\",\"type\":\"Circle\"},{\"attributes\":{},\"id\":\"1210\",\"type\":\"PanTool\"},{\"attributes\":{\"format\":\"$0,\"},\"id\":\"1238\",\"type\":\"NumeralTickFormatter\"}],\"root_ids\":[\"1190\"]},\"title\":\"Bokeh Application\",\"version\":\"1.0.2\"}};\n",
       "  var render_items = [{\"docid\":\"26a2f783-9ab5-47a1-a290-9160e49d1e82\",\"notebook_comms_target\":\"1262\",\"roots\":{\"1190\":\"e5e4ce78-0b06-4591-b9ad-361927fd36a2\"}}];\n",
       "  root.Bokeh.embed.embed_items_notebook(docs_json, render_items);\n",
       "\n",
       "  }\n",
       "  if (root.Bokeh !== undefined) {\n",
       "    embed_document(root);\n",
       "  } else {\n",
       "    var attempts = 0;\n",
       "    var timer = setInterval(function(root) {\n",
       "      if (root.Bokeh !== undefined) {\n",
       "        embed_document(root);\n",
       "        clearInterval(timer);\n",
       "      }\n",
       "      attempts++;\n",
       "      if (attempts > 100) {\n",
       "        console.log(\"Bokeh: ERROR: Unable to run BokehJS code because BokehJS library is missing\");\n",
       "        clearInterval(timer);\n",
       "      }\n",
       "    }, 10, root)\n",
       "  }\n",
       "})(window);"
      ],
      "application/vnd.bokehjs_exec.v0+json": ""
     },
     "metadata": {
      "application/vnd.bokehjs_exec.v0+json": {
       "id": "1190"
      }
     },
     "output_type": "display_data"
    },
    {
     "data": {
      "text/html": [
       "<p><code>&lt;Bokeh Notebook handle for <strong>In[13]</strong>&gt;</code></p>"
      ],
      "text/plain": [
       "<bokeh.io.notebook.CommsHandle at 0x117b188d0>"
      ]
     },
     "execution_count": 13,
     "metadata": {},
     "output_type": "execute_result"
    }
   ],
   "source": [
    "from bokeh.io import push_notebook #allows us to write back to the notebook\n",
    "\n",
    "#creating a function which will update the data for every year from 1950 to 2014\n",
    "#starting with year 2010\n",
    "def update(year):\n",
    "    new_data=dict(                          #creating a new data dictionary which will be used to update the data year wise\n",
    "    x=data.loc[year].income,                #storing the values for the income data from the next year\n",
    "    y=data.loc[year].life,                  #storing the values for the life expectancy data from the next year\n",
    "    country=data.loc[year].Country,         #storing the values for the country data from the next year\n",
    "    region=data.loc[year].region,           #storing the values for the region data from the next year\n",
    "    population=data.loc[year].population    #storing the values for the population from the next year\n",
    "    )\n",
    "    source.data=new_data                    #storing the dictionary in a n from the next year\n",
    "    p.title.text=str(year)                  #giving the title to the plot for the year\n",
    "    push_notebook()                         #Updating plots in the notebook output cells with new data or property values\n",
    "\n",
    "from bokeh.models import LinearInterpolator #LinearInterpolator is used to set the range of the plots without having to manually write it\n",
    "    \n",
    "size_mapper= LinearInterpolator(                \n",
    "    x=[data.population.min(),data.population.max()],   #the min and the max function are used to set the range of the x-axis\n",
    "    y=[5,50]\n",
    "    )\n",
    "\n",
    "from bokeh.models import CategoricalColorMapper\n",
    "from bokeh.palettes import Spectral6\n",
    "\n",
    "color_mapper=CategoricalColorMapper(                #This function is used to give colors to the plots based on certain attributes\n",
    "    factors= list(data.region.unique()),\n",
    "    palette=Spectral6,                             #using the pre-defined color code\n",
    ")\n",
    "p = figure(\n",
    "    title=str(2010), toolbar_location='above',            #location above is used for defining where the year title will be\n",
    "    **PLOT_OPS)\n",
    "p.circle(x='x',y='y', \n",
    "         size={'field':'population', 'transform': size_mapper},  #field tells which field is to be updated\n",
    "         color={'field': 'region', 'transform': color_mapper},   #transform is used to use the function to update the fields\n",
    "         alpha=0.6, \n",
    "         source=source,\n",
    "        legend='region')\n",
    "p.xaxis.axis_label = \"Income\"\n",
    "p.xaxis.axis_label_text_color = \"#00008B\"\n",
    "p.xaxis.axis_label_text_font_style = \"bold\"\n",
    "p.yaxis.axis_label = \"Life Expectancy\"\n",
    "p.yaxis.axis_label_text_color = \"#00008B\"\n",
    "p.yaxis.axis_label_text_font_style = \"bold\"\n",
    "p.legend.border_line_color=None\n",
    "p.right.append(p.legend[0])\n",
    "p.xaxis[0].formatter=NumeralTickFormatter(format='$0,')\n",
    "show(p, notebook_handle=True)"
   ]
  },
  {
   "cell_type": "code",
   "execution_count": 14,
   "metadata": {},
   "outputs": [
    {
     "data": {
      "application/vnd.jupyter.widget-view+json": {
       "model_id": "3cf3f8886709492a9c553c0d63a2d384",
       "version_major": 2,
       "version_minor": 0
      },
      "text/plain": [
       "interactive(children=(IntSlider(value=1982, description='year', max=2014, min=1950), Output()), _dom_classes=(…"
      ]
     },
     "metadata": {},
     "output_type": "display_data"
    },
    {
     "data": {
      "text/plain": [
       "<function __main__.update(year)>"
      ]
     },
     "execution_count": 14,
     "metadata": {},
     "output_type": "execute_result"
    }
   ],
   "source": [
    "from ipywidgets import interact\n",
    "interact(update, year=(1950, 2014,1))"
   ]
  },
  {
   "cell_type": "code",
   "execution_count": null,
   "metadata": {},
   "outputs": [],
   "source": []
  },
  {
   "cell_type": "code",
   "execution_count": null,
   "metadata": {},
   "outputs": [],
   "source": []
  }
 ],
 "metadata": {
  "kernelspec": {
   "display_name": "Python 3",
   "language": "python",
   "name": "python3"
  },
  "language_info": {
   "codemirror_mode": {
    "name": "ipython",
    "version": 3
   },
   "file_extension": ".py",
   "mimetype": "text/x-python",
   "name": "python",
   "nbconvert_exporter": "python",
   "pygments_lexer": "ipython3",
   "version": "3.7.1"
  }
 },
 "nbformat": 4,
 "nbformat_minor": 2
}
